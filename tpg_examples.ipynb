{
 "cells": [
  {
   "cell_type": "markdown",
   "metadata": {},
   "source": [
    "# TPG Examples\n",
    "This document shows how to use the PyTPG API. We make use of OpenAI Gym to run examples, and we assume you already have PyTPG installed, see the readme for installation instructions for PyTPG."
   ]
  },
  {
   "cell_type": "markdown",
   "metadata": {},
   "source": [
    "## General Setup"
   ]
  },
  {
   "cell_type": "code",
   "execution_count": 1,
   "metadata": {},
   "outputs": [],
   "source": [
    "from __future__ import division\n",
    "from IPython.display import clear_output\n",
    "# imports to run OpenAI Gym in Jupyter\n",
    "import gym\n",
    "import matplotlib.pyplot as plt\n",
    "from IPython import display\n",
    "\n",
    "# how to render in Jupyter: \n",
    "# https://stackoverflow.com/questions/40195740/how-to-run-openai-gym-render-over-a-server\n",
    "# https://www.youtube.com/watch?v=O84KgRt6AJI\n",
    "def show_state(env, step=0, name='', info=''):\n",
    "    plt.figure()\n",
    "    plt.clf()\n",
    "    plt.imshow(env.render(mode='rgb_array'))\n",
    "    plt.title(\"%s | Step: %d %s\" % (name, step, info))\n",
    "    plt.axis('off')\n",
    "\n",
    "    display.clear_output(wait=True)\n",
    "    display.display(plt.gcf())\n",
    "    \n",
    "# transforms the state into what the tpg agent can use.\n",
    "# From 3D to 1D, taking only red data (from rgb array)\n",
    "def getState(state):\n",
    "    state2 = []\n",
    "    for x in state:\n",
    "        for y in x:\n",
    "            state2.append(y[0])\n",
    "            \n",
    "    return state2\n",
    "# import to do training\n",
    "from tpg.tpg_trainer import TpgTrainer\n",
    "# import to run an agent (always needed)\n",
    "from tpg.tpg_agent import TpgAgent"
   ]
  },
  {
   "cell_type": "code",
   "execution_count": 2,
   "metadata": {
    "scrolled": true
   },
   "outputs": [],
   "source": [
    "env = gym.make('Assault-v0') # make the environment"
   ]
  },
  {
   "cell_type": "code",
   "execution_count": 3,
   "metadata": {},
   "outputs": [
    {
     "name": "stdout",
     "output_type": "stream",
     "text": [
      "7\n"
     ]
    }
   ],
   "source": [
    "print(env.action_space.n) # learn size of action space"
   ]
  },
  {
   "cell_type": "code",
   "execution_count": 4,
   "metadata": {},
   "outputs": [],
   "source": [
    "# import to do training\n",
    "from tpg.tpg_trainer import TpgTrainer\n",
    "# import to run an agent (always needed)\n",
    "from tpg.tpg_agent import TpgAgent"
   ]
  },
  {
   "cell_type": "markdown",
   "metadata": {},
   "source": [
    "## Example: Basic Generational Selection (with graphics)"
   ]
  },
  {
   "cell_type": "code",
   "execution_count": 5,
   "metadata": {},
   "outputs": [
    {
     "ename": "KeyboardInterrupt",
     "evalue": "",
     "output_type": "error",
     "traceback": [
      "\u001b[0;31m---------------------------------------------------------------------------\u001b[0m",
      "\u001b[0;31mKeyboardInterrupt\u001b[0m                         Traceback (most recent call last)",
      "\u001b[0;32m<ipython-input-5-611cb1e732b8>\u001b[0m in \u001b[0;36m<module>\u001b[0;34m()\u001b[0m\n\u001b[1;32m     31\u001b[0m                 show_state(env, i, 'Assault', 'Gen #' + str(gen) + \n\u001b[1;32m     32\u001b[0m                            \u001b[0;34m', Team #'\u001b[0m \u001b[0;34m+\u001b[0m \u001b[0mstr\u001b[0m\u001b[0;34m(\u001b[0m\u001b[0mteamNum\u001b[0m\u001b[0;34m)\u001b[0m \u001b[0;34m+\u001b[0m\u001b[0;34m\u001b[0m\u001b[0;34m\u001b[0m\u001b[0m\n\u001b[0;32m---> 33\u001b[0;31m                            ', Score: ' + str(score)) # render env\n\u001b[0m\u001b[1;32m     34\u001b[0m \u001b[0;34m\u001b[0m\u001b[0m\n\u001b[1;32m     35\u001b[0m                 \u001b[0mact\u001b[0m \u001b[0;34m=\u001b[0m \u001b[0magent\u001b[0m\u001b[0;34m.\u001b[0m\u001b[0mact\u001b[0m\u001b[0;34m(\u001b[0m\u001b[0mgetState\u001b[0m\u001b[0;34m(\u001b[0m\u001b[0mstate\u001b[0m\u001b[0;34m)\u001b[0m\u001b[0;34m)\u001b[0m \u001b[0;31m# get action from agent\u001b[0m\u001b[0;34m\u001b[0m\u001b[0;34m\u001b[0m\u001b[0m\n",
      "\u001b[0;32m<ipython-input-1-619819e1fa36>\u001b[0m in \u001b[0;36mshow_state\u001b[0;34m(env, step, name, info)\u001b[0m\n\u001b[1;32m     17\u001b[0m \u001b[0;34m\u001b[0m\u001b[0m\n\u001b[1;32m     18\u001b[0m     \u001b[0mdisplay\u001b[0m\u001b[0;34m.\u001b[0m\u001b[0mclear_output\u001b[0m\u001b[0;34m(\u001b[0m\u001b[0mwait\u001b[0m\u001b[0;34m=\u001b[0m\u001b[0;32mTrue\u001b[0m\u001b[0;34m)\u001b[0m\u001b[0;34m\u001b[0m\u001b[0;34m\u001b[0m\u001b[0m\n\u001b[0;32m---> 19\u001b[0;31m     \u001b[0mdisplay\u001b[0m\u001b[0;34m.\u001b[0m\u001b[0mdisplay\u001b[0m\u001b[0;34m(\u001b[0m\u001b[0mplt\u001b[0m\u001b[0;34m.\u001b[0m\u001b[0mgcf\u001b[0m\u001b[0;34m(\u001b[0m\u001b[0;34m)\u001b[0m\u001b[0;34m)\u001b[0m\u001b[0;34m\u001b[0m\u001b[0;34m\u001b[0m\u001b[0m\n\u001b[0m\u001b[1;32m     20\u001b[0m \u001b[0;34m\u001b[0m\u001b[0m\n\u001b[1;32m     21\u001b[0m \u001b[0;31m# transforms the state into what the tpg agent can use.\u001b[0m\u001b[0;34m\u001b[0m\u001b[0;34m\u001b[0m\u001b[0;34m\u001b[0m\u001b[0m\n",
      "\u001b[0;32m/usr/lib/python3/dist-packages/IPython/core/display.py\u001b[0m in \u001b[0;36mdisplay\u001b[0;34m(*objs, **kwargs)\u001b[0m\n\u001b[1;32m    304\u001b[0m             \u001b[0mpublish_display_data\u001b[0m\u001b[0;34m(\u001b[0m\u001b[0mdata\u001b[0m\u001b[0;34m=\u001b[0m\u001b[0mobj\u001b[0m\u001b[0;34m,\u001b[0m \u001b[0mmetadata\u001b[0m\u001b[0;34m=\u001b[0m\u001b[0mmetadata\u001b[0m\u001b[0;34m,\u001b[0m \u001b[0;34m**\u001b[0m\u001b[0mkwargs\u001b[0m\u001b[0;34m)\u001b[0m\u001b[0;34m\u001b[0m\u001b[0;34m\u001b[0m\u001b[0m\n\u001b[1;32m    305\u001b[0m         \u001b[0;32melse\u001b[0m\u001b[0;34m:\u001b[0m\u001b[0;34m\u001b[0m\u001b[0;34m\u001b[0m\u001b[0m\n\u001b[0;32m--> 306\u001b[0;31m             \u001b[0mformat_dict\u001b[0m\u001b[0;34m,\u001b[0m \u001b[0mmd_dict\u001b[0m \u001b[0;34m=\u001b[0m \u001b[0mformat\u001b[0m\u001b[0;34m(\u001b[0m\u001b[0mobj\u001b[0m\u001b[0;34m,\u001b[0m \u001b[0minclude\u001b[0m\u001b[0;34m=\u001b[0m\u001b[0minclude\u001b[0m\u001b[0;34m,\u001b[0m \u001b[0mexclude\u001b[0m\u001b[0;34m=\u001b[0m\u001b[0mexclude\u001b[0m\u001b[0;34m)\u001b[0m\u001b[0;34m\u001b[0m\u001b[0;34m\u001b[0m\u001b[0m\n\u001b[0m\u001b[1;32m    307\u001b[0m             \u001b[0;32mif\u001b[0m \u001b[0;32mnot\u001b[0m \u001b[0mformat_dict\u001b[0m\u001b[0;34m:\u001b[0m\u001b[0;34m\u001b[0m\u001b[0;34m\u001b[0m\u001b[0m\n\u001b[1;32m    308\u001b[0m                 \u001b[0;31m# nothing to display (e.g. _ipython_display_ took over)\u001b[0m\u001b[0;34m\u001b[0m\u001b[0;34m\u001b[0m\u001b[0;34m\u001b[0m\u001b[0m\n",
      "\u001b[0;32m/usr/lib/python3/dist-packages/IPython/core/formatters.py\u001b[0m in \u001b[0;36mformat\u001b[0;34m(self, obj, include, exclude)\u001b[0m\n\u001b[1;32m    171\u001b[0m             \u001b[0mmd\u001b[0m \u001b[0;34m=\u001b[0m \u001b[0;32mNone\u001b[0m\u001b[0;34m\u001b[0m\u001b[0;34m\u001b[0m\u001b[0m\n\u001b[1;32m    172\u001b[0m             \u001b[0;32mtry\u001b[0m\u001b[0;34m:\u001b[0m\u001b[0;34m\u001b[0m\u001b[0;34m\u001b[0m\u001b[0m\n\u001b[0;32m--> 173\u001b[0;31m                 \u001b[0mdata\u001b[0m \u001b[0;34m=\u001b[0m \u001b[0mformatter\u001b[0m\u001b[0;34m(\u001b[0m\u001b[0mobj\u001b[0m\u001b[0;34m)\u001b[0m\u001b[0;34m\u001b[0m\u001b[0;34m\u001b[0m\u001b[0m\n\u001b[0m\u001b[1;32m    174\u001b[0m             \u001b[0;32mexcept\u001b[0m\u001b[0;34m:\u001b[0m\u001b[0;34m\u001b[0m\u001b[0;34m\u001b[0m\u001b[0m\n\u001b[1;32m    175\u001b[0m                 \u001b[0;31m# FIXME: log the exception\u001b[0m\u001b[0;34m\u001b[0m\u001b[0;34m\u001b[0m\u001b[0;34m\u001b[0m\u001b[0m\n",
      "\u001b[0;32m<decorator-gen-9>\u001b[0m in \u001b[0;36m__call__\u001b[0;34m(self, obj)\u001b[0m\n",
      "\u001b[0;32m/usr/lib/python3/dist-packages/IPython/core/formatters.py\u001b[0m in \u001b[0;36mcatch_format_error\u001b[0;34m(method, self, *args, **kwargs)\u001b[0m\n\u001b[1;32m    215\u001b[0m     \u001b[0;34m\"\"\"show traceback on failed format call\"\"\"\u001b[0m\u001b[0;34m\u001b[0m\u001b[0;34m\u001b[0m\u001b[0m\n\u001b[1;32m    216\u001b[0m     \u001b[0;32mtry\u001b[0m\u001b[0;34m:\u001b[0m\u001b[0;34m\u001b[0m\u001b[0;34m\u001b[0m\u001b[0m\n\u001b[0;32m--> 217\u001b[0;31m         \u001b[0mr\u001b[0m \u001b[0;34m=\u001b[0m \u001b[0mmethod\u001b[0m\u001b[0;34m(\u001b[0m\u001b[0mself\u001b[0m\u001b[0;34m,\u001b[0m \u001b[0;34m*\u001b[0m\u001b[0margs\u001b[0m\u001b[0;34m,\u001b[0m \u001b[0;34m**\u001b[0m\u001b[0mkwargs\u001b[0m\u001b[0;34m)\u001b[0m\u001b[0;34m\u001b[0m\u001b[0;34m\u001b[0m\u001b[0m\n\u001b[0m\u001b[1;32m    218\u001b[0m     \u001b[0;32mexcept\u001b[0m \u001b[0mNotImplementedError\u001b[0m\u001b[0;34m:\u001b[0m\u001b[0;34m\u001b[0m\u001b[0;34m\u001b[0m\u001b[0m\n\u001b[1;32m    219\u001b[0m         \u001b[0;31m# don't warn on NotImplementedErrors\u001b[0m\u001b[0;34m\u001b[0m\u001b[0;34m\u001b[0m\u001b[0;34m\u001b[0m\u001b[0m\n",
      "\u001b[0;32m/usr/lib/python3/dist-packages/IPython/core/formatters.py\u001b[0m in \u001b[0;36m__call__\u001b[0;34m(self, obj)\u001b[0m\n\u001b[1;32m    332\u001b[0m                 \u001b[0;32mpass\u001b[0m\u001b[0;34m\u001b[0m\u001b[0;34m\u001b[0m\u001b[0m\n\u001b[1;32m    333\u001b[0m             \u001b[0;32melse\u001b[0m\u001b[0;34m:\u001b[0m\u001b[0;34m\u001b[0m\u001b[0;34m\u001b[0m\u001b[0m\n\u001b[0;32m--> 334\u001b[0;31m                 \u001b[0;32mreturn\u001b[0m \u001b[0mprinter\u001b[0m\u001b[0;34m(\u001b[0m\u001b[0mobj\u001b[0m\u001b[0;34m)\u001b[0m\u001b[0;34m\u001b[0m\u001b[0;34m\u001b[0m\u001b[0m\n\u001b[0m\u001b[1;32m    335\u001b[0m             \u001b[0;31m# Finally look for special method names\u001b[0m\u001b[0;34m\u001b[0m\u001b[0;34m\u001b[0m\u001b[0;34m\u001b[0m\u001b[0m\n\u001b[1;32m    336\u001b[0m             \u001b[0mmethod\u001b[0m \u001b[0;34m=\u001b[0m \u001b[0mget_real_method\u001b[0m\u001b[0;34m(\u001b[0m\u001b[0mobj\u001b[0m\u001b[0;34m,\u001b[0m \u001b[0mself\u001b[0m\u001b[0;34m.\u001b[0m\u001b[0mprint_method\u001b[0m\u001b[0;34m)\u001b[0m\u001b[0;34m\u001b[0m\u001b[0;34m\u001b[0m\u001b[0m\n",
      "\u001b[0;32m/usr/lib/python3/dist-packages/IPython/core/pylabtools.py\u001b[0m in \u001b[0;36m<lambda>\u001b[0;34m(fig)\u001b[0m\n\u001b[1;32m    239\u001b[0m \u001b[0;34m\u001b[0m\u001b[0m\n\u001b[1;32m    240\u001b[0m     \u001b[0;32mif\u001b[0m \u001b[0;34m'png'\u001b[0m \u001b[0;32min\u001b[0m \u001b[0mformats\u001b[0m\u001b[0;34m:\u001b[0m\u001b[0;34m\u001b[0m\u001b[0;34m\u001b[0m\u001b[0m\n\u001b[0;32m--> 241\u001b[0;31m         \u001b[0mpng_formatter\u001b[0m\u001b[0;34m.\u001b[0m\u001b[0mfor_type\u001b[0m\u001b[0;34m(\u001b[0m\u001b[0mFigure\u001b[0m\u001b[0;34m,\u001b[0m \u001b[0;32mlambda\u001b[0m \u001b[0mfig\u001b[0m\u001b[0;34m:\u001b[0m \u001b[0mprint_figure\u001b[0m\u001b[0;34m(\u001b[0m\u001b[0mfig\u001b[0m\u001b[0;34m,\u001b[0m \u001b[0;34m'png'\u001b[0m\u001b[0;34m,\u001b[0m \u001b[0;34m**\u001b[0m\u001b[0mkwargs\u001b[0m\u001b[0;34m)\u001b[0m\u001b[0;34m)\u001b[0m\u001b[0;34m\u001b[0m\u001b[0;34m\u001b[0m\u001b[0m\n\u001b[0m\u001b[1;32m    242\u001b[0m     \u001b[0;32mif\u001b[0m \u001b[0;34m'retina'\u001b[0m \u001b[0;32min\u001b[0m \u001b[0mformats\u001b[0m \u001b[0;32mor\u001b[0m \u001b[0;34m'png2x'\u001b[0m \u001b[0;32min\u001b[0m \u001b[0mformats\u001b[0m\u001b[0;34m:\u001b[0m\u001b[0;34m\u001b[0m\u001b[0;34m\u001b[0m\u001b[0m\n\u001b[1;32m    243\u001b[0m         \u001b[0mpng_formatter\u001b[0m\u001b[0;34m.\u001b[0m\u001b[0mfor_type\u001b[0m\u001b[0;34m(\u001b[0m\u001b[0mFigure\u001b[0m\u001b[0;34m,\u001b[0m \u001b[0;32mlambda\u001b[0m \u001b[0mfig\u001b[0m\u001b[0;34m:\u001b[0m \u001b[0mretina_figure\u001b[0m\u001b[0;34m(\u001b[0m\u001b[0mfig\u001b[0m\u001b[0;34m,\u001b[0m \u001b[0;34m**\u001b[0m\u001b[0mkwargs\u001b[0m\u001b[0;34m)\u001b[0m\u001b[0;34m)\u001b[0m\u001b[0;34m\u001b[0m\u001b[0;34m\u001b[0m\u001b[0m\n",
      "\u001b[0;32m/usr/lib/python3/dist-packages/IPython/core/pylabtools.py\u001b[0m in \u001b[0;36mprint_figure\u001b[0;34m(fig, fmt, bbox_inches, **kwargs)\u001b[0m\n\u001b[1;32m    123\u001b[0m \u001b[0;34m\u001b[0m\u001b[0m\n\u001b[1;32m    124\u001b[0m     \u001b[0mbytes_io\u001b[0m \u001b[0;34m=\u001b[0m \u001b[0mBytesIO\u001b[0m\u001b[0;34m(\u001b[0m\u001b[0;34m)\u001b[0m\u001b[0;34m\u001b[0m\u001b[0;34m\u001b[0m\u001b[0m\n\u001b[0;32m--> 125\u001b[0;31m     \u001b[0mfig\u001b[0m\u001b[0;34m.\u001b[0m\u001b[0mcanvas\u001b[0m\u001b[0;34m.\u001b[0m\u001b[0mprint_figure\u001b[0m\u001b[0;34m(\u001b[0m\u001b[0mbytes_io\u001b[0m\u001b[0;34m,\u001b[0m \u001b[0;34m**\u001b[0m\u001b[0mkw\u001b[0m\u001b[0;34m)\u001b[0m\u001b[0;34m\u001b[0m\u001b[0;34m\u001b[0m\u001b[0m\n\u001b[0m\u001b[1;32m    126\u001b[0m     \u001b[0mdata\u001b[0m \u001b[0;34m=\u001b[0m \u001b[0mbytes_io\u001b[0m\u001b[0;34m.\u001b[0m\u001b[0mgetvalue\u001b[0m\u001b[0;34m(\u001b[0m\u001b[0;34m)\u001b[0m\u001b[0;34m\u001b[0m\u001b[0;34m\u001b[0m\u001b[0m\n\u001b[1;32m    127\u001b[0m     \u001b[0;32mif\u001b[0m \u001b[0mfmt\u001b[0m \u001b[0;34m==\u001b[0m \u001b[0;34m'svg'\u001b[0m\u001b[0;34m:\u001b[0m\u001b[0;34m\u001b[0m\u001b[0;34m\u001b[0m\u001b[0m\n",
      "\u001b[0;32m/home/zzl/.local/lib/python3.6/site-packages/matplotlib/backend_bases.py\u001b[0m in \u001b[0;36mprint_figure\u001b[0;34m(self, filename, dpi, facecolor, edgecolor, orientation, format, **kwargs)\u001b[0m\n\u001b[1;32m   2189\u001b[0m         \u001b[0morigedgecolor\u001b[0m \u001b[0;34m=\u001b[0m \u001b[0mself\u001b[0m\u001b[0;34m.\u001b[0m\u001b[0mfigure\u001b[0m\u001b[0;34m.\u001b[0m\u001b[0mget_edgecolor\u001b[0m\u001b[0;34m(\u001b[0m\u001b[0;34m)\u001b[0m\u001b[0;34m\u001b[0m\u001b[0;34m\u001b[0m\u001b[0m\n\u001b[1;32m   2190\u001b[0m \u001b[0;34m\u001b[0m\u001b[0m\n\u001b[0;32m-> 2191\u001b[0;31m         \u001b[0mself\u001b[0m\u001b[0;34m.\u001b[0m\u001b[0mfigure\u001b[0m\u001b[0;34m.\u001b[0m\u001b[0mdpi\u001b[0m \u001b[0;34m=\u001b[0m \u001b[0mdpi\u001b[0m\u001b[0;34m\u001b[0m\u001b[0;34m\u001b[0m\u001b[0m\n\u001b[0m\u001b[1;32m   2192\u001b[0m         \u001b[0mself\u001b[0m\u001b[0;34m.\u001b[0m\u001b[0mfigure\u001b[0m\u001b[0;34m.\u001b[0m\u001b[0mset_facecolor\u001b[0m\u001b[0;34m(\u001b[0m\u001b[0mfacecolor\u001b[0m\u001b[0;34m)\u001b[0m\u001b[0;34m\u001b[0m\u001b[0;34m\u001b[0m\u001b[0m\n\u001b[1;32m   2193\u001b[0m         \u001b[0mself\u001b[0m\u001b[0;34m.\u001b[0m\u001b[0mfigure\u001b[0m\u001b[0;34m.\u001b[0m\u001b[0mset_edgecolor\u001b[0m\u001b[0;34m(\u001b[0m\u001b[0medgecolor\u001b[0m\u001b[0;34m)\u001b[0m\u001b[0;34m\u001b[0m\u001b[0;34m\u001b[0m\u001b[0m\n",
      "\u001b[0;32m/home/zzl/.local/lib/python3.6/site-packages/matplotlib/figure.py\u001b[0m in \u001b[0;36m_set_dpi\u001b[0;34m(self, dpi, forward)\u001b[0m\n\u001b[1;32m    481\u001b[0m         \"\"\"\n\u001b[1;32m    482\u001b[0m         \u001b[0mself\u001b[0m\u001b[0;34m.\u001b[0m\u001b[0m_dpi\u001b[0m \u001b[0;34m=\u001b[0m \u001b[0mdpi\u001b[0m\u001b[0;34m\u001b[0m\u001b[0;34m\u001b[0m\u001b[0m\n\u001b[0;32m--> 483\u001b[0;31m         \u001b[0mself\u001b[0m\u001b[0;34m.\u001b[0m\u001b[0mdpi_scale_trans\u001b[0m\u001b[0;34m.\u001b[0m\u001b[0mclear\u001b[0m\u001b[0;34m(\u001b[0m\u001b[0;34m)\u001b[0m\u001b[0;34m.\u001b[0m\u001b[0mscale\u001b[0m\u001b[0;34m(\u001b[0m\u001b[0mdpi\u001b[0m\u001b[0;34m,\u001b[0m \u001b[0mdpi\u001b[0m\u001b[0;34m)\u001b[0m\u001b[0;34m\u001b[0m\u001b[0;34m\u001b[0m\u001b[0m\n\u001b[0m\u001b[1;32m    484\u001b[0m         \u001b[0mw\u001b[0m\u001b[0;34m,\u001b[0m \u001b[0mh\u001b[0m \u001b[0;34m=\u001b[0m \u001b[0mself\u001b[0m\u001b[0;34m.\u001b[0m\u001b[0mget_size_inches\u001b[0m\u001b[0;34m(\u001b[0m\u001b[0;34m)\u001b[0m\u001b[0;34m\u001b[0m\u001b[0;34m\u001b[0m\u001b[0m\n\u001b[1;32m    485\u001b[0m         \u001b[0mself\u001b[0m\u001b[0;34m.\u001b[0m\u001b[0mset_size_inches\u001b[0m\u001b[0;34m(\u001b[0m\u001b[0mw\u001b[0m\u001b[0;34m,\u001b[0m \u001b[0mh\u001b[0m\u001b[0;34m,\u001b[0m \u001b[0mforward\u001b[0m\u001b[0;34m=\u001b[0m\u001b[0mforward\u001b[0m\u001b[0;34m)\u001b[0m\u001b[0;34m\u001b[0m\u001b[0;34m\u001b[0m\u001b[0m\n",
      "\u001b[0;32m/home/zzl/.local/lib/python3.6/site-packages/matplotlib/transforms.py\u001b[0m in \u001b[0;36mclear\u001b[0;34m(self)\u001b[0m\n\u001b[1;32m   2002\u001b[0m         \u001b[0;31m# A bit faster than np.identity(3).\u001b[0m\u001b[0;34m\u001b[0m\u001b[0;34m\u001b[0m\u001b[0;34m\u001b[0m\u001b[0m\n\u001b[1;32m   2003\u001b[0m         \u001b[0mself\u001b[0m\u001b[0;34m.\u001b[0m\u001b[0m_mtx\u001b[0m \u001b[0;34m=\u001b[0m \u001b[0mIdentityTransform\u001b[0m\u001b[0;34m.\u001b[0m\u001b[0m_mtx\u001b[0m\u001b[0;34m.\u001b[0m\u001b[0mcopy\u001b[0m\u001b[0;34m(\u001b[0m\u001b[0;34m)\u001b[0m\u001b[0;34m\u001b[0m\u001b[0;34m\u001b[0m\u001b[0m\n\u001b[0;32m-> 2004\u001b[0;31m         \u001b[0mself\u001b[0m\u001b[0;34m.\u001b[0m\u001b[0minvalidate\u001b[0m\u001b[0;34m(\u001b[0m\u001b[0;34m)\u001b[0m\u001b[0;34m\u001b[0m\u001b[0;34m\u001b[0m\u001b[0m\n\u001b[0m\u001b[1;32m   2005\u001b[0m         \u001b[0;32mreturn\u001b[0m \u001b[0mself\u001b[0m\u001b[0;34m\u001b[0m\u001b[0;34m\u001b[0m\u001b[0m\n\u001b[1;32m   2006\u001b[0m \u001b[0;34m\u001b[0m\u001b[0m\n",
      "\u001b[0;32m/home/zzl/.local/lib/python3.6/site-packages/matplotlib/transforms.py\u001b[0m in \u001b[0;36minvalidate\u001b[0;34m(self)\u001b[0m\n\u001b[1;32m    138\u001b[0m         \u001b[0;32mif\u001b[0m \u001b[0mself\u001b[0m\u001b[0;34m.\u001b[0m\u001b[0mis_affine\u001b[0m\u001b[0;34m:\u001b[0m\u001b[0;34m\u001b[0m\u001b[0;34m\u001b[0m\u001b[0m\n\u001b[1;32m    139\u001b[0m             \u001b[0mvalue\u001b[0m \u001b[0;34m=\u001b[0m \u001b[0mself\u001b[0m\u001b[0;34m.\u001b[0m\u001b[0mINVALID_AFFINE\u001b[0m\u001b[0;34m\u001b[0m\u001b[0;34m\u001b[0m\u001b[0m\n\u001b[0;32m--> 140\u001b[0;31m         \u001b[0;32mreturn\u001b[0m \u001b[0mself\u001b[0m\u001b[0;34m.\u001b[0m\u001b[0m_invalidate_internal\u001b[0m\u001b[0;34m(\u001b[0m\u001b[0mvalue\u001b[0m\u001b[0;34m,\u001b[0m \u001b[0minvalidating_node\u001b[0m\u001b[0;34m=\u001b[0m\u001b[0mself\u001b[0m\u001b[0;34m)\u001b[0m\u001b[0;34m\u001b[0m\u001b[0;34m\u001b[0m\u001b[0m\n\u001b[0m\u001b[1;32m    141\u001b[0m \u001b[0;34m\u001b[0m\u001b[0m\n\u001b[1;32m    142\u001b[0m     \u001b[0;32mdef\u001b[0m \u001b[0m_invalidate_internal\u001b[0m\u001b[0;34m(\u001b[0m\u001b[0mself\u001b[0m\u001b[0;34m,\u001b[0m \u001b[0mvalue\u001b[0m\u001b[0;34m,\u001b[0m \u001b[0minvalidating_node\u001b[0m\u001b[0;34m)\u001b[0m\u001b[0;34m:\u001b[0m\u001b[0;34m\u001b[0m\u001b[0;34m\u001b[0m\u001b[0m\n",
      "\u001b[0;32m/home/zzl/.local/lib/python3.6/site-packages/matplotlib/transforms.py\u001b[0m in \u001b[0;36m_invalidate_internal\u001b[0;34m(self, value, invalidating_node)\u001b[0m\n\u001b[1;32m    165\u001b[0m                 \u001b[0;32mif\u001b[0m \u001b[0mparent\u001b[0m \u001b[0;32mis\u001b[0m \u001b[0;32mnot\u001b[0m \u001b[0;32mNone\u001b[0m\u001b[0;34m:\u001b[0m\u001b[0;34m\u001b[0m\u001b[0;34m\u001b[0m\u001b[0m\n\u001b[1;32m    166\u001b[0m                     parent._invalidate_internal(\n\u001b[0;32m--> 167\u001b[0;31m                         value=value, invalidating_node=self)\n\u001b[0m\u001b[1;32m    168\u001b[0m \u001b[0;34m\u001b[0m\u001b[0m\n\u001b[1;32m    169\u001b[0m     \u001b[0;32mdef\u001b[0m \u001b[0mset_children\u001b[0m\u001b[0;34m(\u001b[0m\u001b[0mself\u001b[0m\u001b[0;34m,\u001b[0m \u001b[0;34m*\u001b[0m\u001b[0mchildren\u001b[0m\u001b[0;34m)\u001b[0m\u001b[0;34m:\u001b[0m\u001b[0;34m\u001b[0m\u001b[0;34m\u001b[0m\u001b[0m\n",
      "\u001b[0;32m/home/zzl/.local/lib/python3.6/site-packages/matplotlib/transforms.py\u001b[0m in \u001b[0;36m_invalidate_internal\u001b[0;34m(self, value, invalidating_node)\u001b[0m\n\u001b[1;32m    165\u001b[0m                 \u001b[0;32mif\u001b[0m \u001b[0mparent\u001b[0m \u001b[0;32mis\u001b[0m \u001b[0;32mnot\u001b[0m \u001b[0;32mNone\u001b[0m\u001b[0;34m:\u001b[0m\u001b[0;34m\u001b[0m\u001b[0;34m\u001b[0m\u001b[0m\n\u001b[1;32m    166\u001b[0m                     parent._invalidate_internal(\n\u001b[0;32m--> 167\u001b[0;31m                         value=value, invalidating_node=self)\n\u001b[0m\u001b[1;32m    168\u001b[0m \u001b[0;34m\u001b[0m\u001b[0m\n\u001b[1;32m    169\u001b[0m     \u001b[0;32mdef\u001b[0m \u001b[0mset_children\u001b[0m\u001b[0;34m(\u001b[0m\u001b[0mself\u001b[0m\u001b[0;34m,\u001b[0m \u001b[0;34m*\u001b[0m\u001b[0mchildren\u001b[0m\u001b[0;34m)\u001b[0m\u001b[0;34m:\u001b[0m\u001b[0;34m\u001b[0m\u001b[0;34m\u001b[0m\u001b[0m\n",
      "\u001b[0;32m/home/zzl/.local/lib/python3.6/site-packages/matplotlib/transforms.py\u001b[0m in \u001b[0;36m_invalidate_internal\u001b[0;34m(self, value, invalidating_node)\u001b[0m\n\u001b[1;32m    165\u001b[0m                 \u001b[0;32mif\u001b[0m \u001b[0mparent\u001b[0m \u001b[0;32mis\u001b[0m \u001b[0;32mnot\u001b[0m \u001b[0;32mNone\u001b[0m\u001b[0;34m:\u001b[0m\u001b[0;34m\u001b[0m\u001b[0;34m\u001b[0m\u001b[0m\n\u001b[1;32m    166\u001b[0m                     parent._invalidate_internal(\n\u001b[0;32m--> 167\u001b[0;31m                         value=value, invalidating_node=self)\n\u001b[0m\u001b[1;32m    168\u001b[0m \u001b[0;34m\u001b[0m\u001b[0m\n\u001b[1;32m    169\u001b[0m     \u001b[0;32mdef\u001b[0m \u001b[0mset_children\u001b[0m\u001b[0;34m(\u001b[0m\u001b[0mself\u001b[0m\u001b[0;34m,\u001b[0m \u001b[0;34m*\u001b[0m\u001b[0mchildren\u001b[0m\u001b[0;34m)\u001b[0m\u001b[0;34m:\u001b[0m\u001b[0;34m\u001b[0m\u001b[0;34m\u001b[0m\u001b[0m\n",
      "\u001b[0;32m/home/zzl/.local/lib/python3.6/site-packages/matplotlib/transforms.py\u001b[0m in \u001b[0;36m_invalidate_internal\u001b[0;34m(self, value, invalidating_node)\u001b[0m\n\u001b[1;32m    165\u001b[0m                 \u001b[0;32mif\u001b[0m \u001b[0mparent\u001b[0m \u001b[0;32mis\u001b[0m \u001b[0;32mnot\u001b[0m \u001b[0;32mNone\u001b[0m\u001b[0;34m:\u001b[0m\u001b[0;34m\u001b[0m\u001b[0;34m\u001b[0m\u001b[0m\n\u001b[1;32m    166\u001b[0m                     parent._invalidate_internal(\n\u001b[0;32m--> 167\u001b[0;31m                         value=value, invalidating_node=self)\n\u001b[0m\u001b[1;32m    168\u001b[0m \u001b[0;34m\u001b[0m\u001b[0m\n\u001b[1;32m    169\u001b[0m     \u001b[0;32mdef\u001b[0m \u001b[0mset_children\u001b[0m\u001b[0;34m(\u001b[0m\u001b[0mself\u001b[0m\u001b[0;34m,\u001b[0m \u001b[0;34m*\u001b[0m\u001b[0mchildren\u001b[0m\u001b[0;34m)\u001b[0m\u001b[0;34m:\u001b[0m\u001b[0;34m\u001b[0m\u001b[0;34m\u001b[0m\u001b[0m\n",
      "\u001b[0;32m/home/zzl/.local/lib/python3.6/site-packages/matplotlib/transforms.py\u001b[0m in \u001b[0;36m_invalidate_internal\u001b[0;34m(self, value, invalidating_node)\u001b[0m\n\u001b[1;32m    165\u001b[0m                 \u001b[0;32mif\u001b[0m \u001b[0mparent\u001b[0m \u001b[0;32mis\u001b[0m \u001b[0;32mnot\u001b[0m \u001b[0;32mNone\u001b[0m\u001b[0;34m:\u001b[0m\u001b[0;34m\u001b[0m\u001b[0;34m\u001b[0m\u001b[0m\n\u001b[1;32m    166\u001b[0m                     parent._invalidate_internal(\n\u001b[0;32m--> 167\u001b[0;31m                         value=value, invalidating_node=self)\n\u001b[0m\u001b[1;32m    168\u001b[0m \u001b[0;34m\u001b[0m\u001b[0m\n\u001b[1;32m    169\u001b[0m     \u001b[0;32mdef\u001b[0m \u001b[0mset_children\u001b[0m\u001b[0;34m(\u001b[0m\u001b[0mself\u001b[0m\u001b[0;34m,\u001b[0m \u001b[0;34m*\u001b[0m\u001b[0mchildren\u001b[0m\u001b[0;34m)\u001b[0m\u001b[0;34m:\u001b[0m\u001b[0;34m\u001b[0m\u001b[0;34m\u001b[0m\u001b[0m\n",
      "\u001b[0;32m/home/zzl/.local/lib/python3.6/site-packages/matplotlib/transforms.py\u001b[0m in \u001b[0;36m_invalidate_internal\u001b[0;34m(self, value, invalidating_node)\u001b[0m\n\u001b[1;32m   2438\u001b[0m \u001b[0;34m\u001b[0m\u001b[0m\n\u001b[1;32m   2439\u001b[0m         Transform._invalidate_internal(self, value=value,\n\u001b[0;32m-> 2440\u001b[0;31m                                        invalidating_node=invalidating_node)\n\u001b[0m\u001b[1;32m   2441\u001b[0m \u001b[0;34m\u001b[0m\u001b[0m\n\u001b[1;32m   2442\u001b[0m     \u001b[0;32mdef\u001b[0m \u001b[0m__eq__\u001b[0m\u001b[0;34m(\u001b[0m\u001b[0mself\u001b[0m\u001b[0;34m,\u001b[0m \u001b[0mother\u001b[0m\u001b[0;34m)\u001b[0m\u001b[0;34m:\u001b[0m\u001b[0;34m\u001b[0m\u001b[0;34m\u001b[0m\u001b[0m\n",
      "\u001b[0;32m/home/zzl/.local/lib/python3.6/site-packages/matplotlib/transforms.py\u001b[0m in \u001b[0;36m_invalidate_internal\u001b[0;34m(self, value, invalidating_node)\u001b[0m\n\u001b[1;32m    160\u001b[0m             \u001b[0mself\u001b[0m\u001b[0;34m.\u001b[0m\u001b[0m_invalid\u001b[0m \u001b[0;34m=\u001b[0m \u001b[0mvalue\u001b[0m\u001b[0;34m\u001b[0m\u001b[0;34m\u001b[0m\u001b[0m\n\u001b[1;32m    161\u001b[0m \u001b[0;34m\u001b[0m\u001b[0m\n\u001b[0;32m--> 162\u001b[0;31m             \u001b[0;32mfor\u001b[0m \u001b[0mparent\u001b[0m \u001b[0;32min\u001b[0m \u001b[0mlist\u001b[0m\u001b[0;34m(\u001b[0m\u001b[0msix\u001b[0m\u001b[0;34m.\u001b[0m\u001b[0mitervalues\u001b[0m\u001b[0;34m(\u001b[0m\u001b[0mself\u001b[0m\u001b[0;34m.\u001b[0m\u001b[0m_parents\u001b[0m\u001b[0;34m)\u001b[0m\u001b[0;34m)\u001b[0m\u001b[0;34m:\u001b[0m\u001b[0;34m\u001b[0m\u001b[0;34m\u001b[0m\u001b[0m\n\u001b[0m\u001b[1;32m    163\u001b[0m                 \u001b[0;31m# Dereference the weak reference\u001b[0m\u001b[0;34m\u001b[0m\u001b[0;34m\u001b[0m\u001b[0;34m\u001b[0m\u001b[0m\n\u001b[1;32m    164\u001b[0m                 \u001b[0mparent\u001b[0m \u001b[0;34m=\u001b[0m \u001b[0mparent\u001b[0m\u001b[0;34m(\u001b[0m\u001b[0;34m)\u001b[0m\u001b[0;34m\u001b[0m\u001b[0;34m\u001b[0m\u001b[0m\n",
      "\u001b[0;32m/home/zzl/.local/lib/python3.6/site-packages/six.py\u001b[0m in \u001b[0;36mitervalues\u001b[0;34m(d, **kw)\u001b[0m\n\u001b[1;32m    582\u001b[0m \u001b[0;34m\u001b[0m\u001b[0m\n\u001b[1;32m    583\u001b[0m     \u001b[0;32mdef\u001b[0m \u001b[0mitervalues\u001b[0m\u001b[0;34m(\u001b[0m\u001b[0md\u001b[0m\u001b[0;34m,\u001b[0m \u001b[0;34m**\u001b[0m\u001b[0mkw\u001b[0m\u001b[0;34m)\u001b[0m\u001b[0;34m:\u001b[0m\u001b[0;34m\u001b[0m\u001b[0;34m\u001b[0m\u001b[0m\n\u001b[0;32m--> 584\u001b[0;31m         \u001b[0;32mreturn\u001b[0m \u001b[0miter\u001b[0m\u001b[0;34m(\u001b[0m\u001b[0md\u001b[0m\u001b[0;34m.\u001b[0m\u001b[0mvalues\u001b[0m\u001b[0;34m(\u001b[0m\u001b[0;34m**\u001b[0m\u001b[0mkw\u001b[0m\u001b[0;34m)\u001b[0m\u001b[0;34m)\u001b[0m\u001b[0;34m\u001b[0m\u001b[0;34m\u001b[0m\u001b[0m\n\u001b[0m\u001b[1;32m    585\u001b[0m \u001b[0;34m\u001b[0m\u001b[0m\n\u001b[1;32m    586\u001b[0m     \u001b[0;32mdef\u001b[0m \u001b[0miteritems\u001b[0m\u001b[0;34m(\u001b[0m\u001b[0md\u001b[0m\u001b[0;34m,\u001b[0m \u001b[0;34m**\u001b[0m\u001b[0mkw\u001b[0m\u001b[0;34m)\u001b[0m\u001b[0;34m:\u001b[0m\u001b[0;34m\u001b[0m\u001b[0;34m\u001b[0m\u001b[0m\n",
      "\u001b[0;31mKeyboardInterrupt\u001b[0m: "
     ]
    },
    {
     "data": {
      "image/png": "[encoded data removed]",
      "text/plain": [
       "<Figure size 432x288 with 1 Axes>"
      ]
     },
     "metadata": {},
     "output_type": "display_data"
    },
    {
     "data": {
      "image/png": "[encoded data removed]",
      "text/plain": [
       "<Figure size 432x288 with 1 Axes>"
      ]
     },
     "metadata": {},
     "output_type": "display_data"
    },
    {
     "data": {
      "image/png": "[encoded data removed]",
      "text/plain": [
       "<Figure size 432x288 with 1 Axes>"
      ]
     },
     "metadata": {},
     "output_type": "display_data"
    },
    {
     "data": {
      "image/png": "[encoded data removed]",
      "text/plain": [
       "<Figure size 432x288 with 1 Axes>"
      ]
     },
     "metadata": {},
     "output_type": "display_data"
    },
    {
     "data": {
      "image/png": "[encoded data removed]",
      "text/plain": [
       "<Figure size 432x288 with 1 Axes>"
      ]
     },
     "metadata": {},
     "output_type": "display_data"
    },
    {
     "data": {
      "image/png": "[encoded data removed]",
      "text/plain": [
       "<Figure size 432x288 with 1 Axes>"
      ]
     },
     "metadata": {},
     "output_type": "display_data"
    },
    {
     "data": {
      "image/png": "[encoded data removed]",
      "text/plain": [
       "<Figure size 432x288 with 1 Axes>"
      ]
     },
     "metadata": {},
     "output_type": "display_data"
    },
    {
     "data": {
      "image/png": "[encoded data removed]",
      "text/plain": [
       "<Figure size 432x288 with 1 Axes>"
      ]
     },
     "metadata": {},
     "output_type": "display_data"
    },
    {
     "data": {
      "image/png": "[encoded data removed]",
      "text/plain": [
       "<Figure size 432x288 with 1 Axes>"
      ]
     },
     "metadata": {},
     "output_type": "display_data"
    },
    {
     "data": {
      "image/png": "[encoded data removed]",
      "text/plain": [
       "<Figure size 432x288 with 1 Axes>"
      ]
     },
     "metadata": {},
     "output_type": "display_data"
    },
    {
     "data": {
      "image/png": "[encoded data removed]",
      "text/plain": [
       "<Figure size 432x288 with 1 Axes>"
      ]
     },
     "metadata": {},
     "output_type": "display_data"
    },
    {
     "data": {
      "image/png": "[encoded data removed]",
      "text/plain": [
       "<Figure size 432x288 with 1 Axes>"
      ]
     },
     "metadata": {},
     "output_type": "display_data"
    },
    {
     "data": {
      "image/png": "[encoded data removed]",
      "text/plain": [
       "<Figure size 432x288 with 1 Axes>"
      ]
     },
     "metadata": {},
     "output_type": "display_data"
    },
    {
     "data": {
      "image/png": "[encoded data removed]",
      "text/plain": [
       "<Figure size 432x288 with 1 Axes>"
      ]
     },
     "metadata": {},
     "output_type": "display_data"
    },
    {
     "data": {
      "image/png": "[encoded data removed]",
      "text/plain": [
       "<Figure size 432x288 with 1 Axes>"
      ]
     },
     "metadata": {},
     "output_type": "display_data"
    },
    {
     "data": {
      "image/png": "[encoded data removed]",
      "text/plain": [
       "<Figure size 432x288 with 1 Axes>"
      ]
     },
     "metadata": {},
     "output_type": "display_data"
    },
    {
     "data": {
      "image/png": "[encoded data removed]",
      "text/plain": [
       "<Figure size 432x288 with 1 Axes>"
      ]
     },
     "metadata": {},
     "output_type": "display_data"
    },
    {
     "data": {
      "image/png": "[encoded data removed]",
      "text/plain": [
       "<Figure size 432x288 with 1 Axes>"
      ]
     },
     "metadata": {},
     "output_type": "display_data"
    },
    {
     "data": {
      "image/png": "[encoded data removed]",
      "text/plain": [
       "<Figure size 432x288 with 1 Axes>"
      ]
     },
     "metadata": {},
     "output_type": "display_data"
    },
    {
     "data": {
      "image/png": "[encoded data removed]",
      "text/plain": [
       "<Figure size 432x288 with 1 Axes>"
      ]
     },
     "metadata": {},
     "output_type": "display_data"
    },
    {
     "data": {
      "image/png": "[encoded data removed]",
      "text/plain": [
       "<Figure size 432x288 with 1 Axes>"
      ]
     },
     "metadata": {},
     "output_type": "display_data"
    },
    {
     "data": {
      "image/png": "[encoded data removed]",
      "text/plain": [
       "<Figure size 432x288 with 1 Axes>"
      ]
     },
     "metadata": {},
     "output_type": "display_data"
    },
    {
     "data": {
      "image/png": "[encoded data removed]",
      "text/plain": [
       "<Figure size 432x288 with 1 Axes>"
      ]
     },
     "metadata": {},
     "output_type": "display_data"
    },
    {
     "data": {
      "image/png": "[encoded data removed]",
      "text/plain": [
       "<Figure size 432x288 with 1 Axes>"
      ]
     },
     "metadata": {},
     "output_type": "display_data"
    },
    {
     "data": {
      "image/png": "[encoded data removed]",
      "text/plain": [
       "<Figure size 432x288 with 1 Axes>"
      ]
     },
     "metadata": {},
     "output_type": "display_data"
    },
    {
     "data": {
      "image/png": "[encoded data removed]",
      "text/plain": [
       "<Figure size 432x288 with 1 Axes>"
      ]
     },
     "metadata": {},
     "output_type": "display_data"
    },
    {
     "data": {
      "image/png": "[encoded data removed]",
      "text/plain": [
       "<Figure size 432x288 with 1 Axes>"
      ]
     },
     "metadata": {},
     "output_type": "display_data"
    },
    {
     "data": {
      "image/png": "[encoded data removed]",
      "text/plain": [
       "<Figure size 432x288 with 1 Axes>"
      ]
     },
     "metadata": {},
     "output_type": "display_data"
    },
    {
     "data": {
      "image/png": "[encoded data removed]",
      "text/plain": [
       "<Figure size 432x288 with 1 Axes>"
      ]
     },
     "metadata": {},
     "output_type": "display_data"
    },
    {
     "data": {
      "image/png": "[encoded data removed]",
      "text/plain": [
       "<Figure size 432x288 with 1 Axes>"
      ]
     },
     "metadata": {},
     "output_type": "display_data"
    },
    {
     "data": {
      "image/png": "[encoded data removed]",
      "text/plain": [
       "<Figure size 432x288 with 1 Axes>"
      ]
     },
     "metadata": {},
     "output_type": "display_data"
    },
    {
     "data": {
      "image/png": "[encoded data removed]",
      "text/plain": [
       "<Figure size 432x288 with 1 Axes>"
      ]
     },
     "metadata": {},
     "output_type": "display_data"
    },
    {
     "data": {
      "image/png": "[encoded data removed]",
      "text/plain": [
       "<Figure size 432x288 with 1 Axes>"
      ]
     },
     "metadata": {},
     "output_type": "display_data"
    },
    {
     "data": {
      "image/png": "[encoded data removed]",
      "text/plain": [
       "<Figure size 432x288 with 1 Axes>"
      ]
     },
     "metadata": {},
     "output_type": "display_data"
    },
    {
     "data": {
      "image/png": "[encoded data removed]",
      "text/plain": [
       "<Figure size 432x288 with 1 Axes>"
      ]
     },
     "metadata": {},
     "output_type": "display_data"
    },
    {
     "data": {
      "image/png": "[encoded data removed]",
      "text/plain": [
       "<Figure size 432x288 with 1 Axes>"
      ]
     },
     "metadata": {},
     "output_type": "display_data"
    },
    {
     "data": {
      "image/png": "[encoded data removed]",
      "text/plain": [
       "<Figure size 432x288 with 1 Axes>"
      ]
     },
     "metadata": {},
     "output_type": "display_data"
    },
    {
     "data": {
      "image/png": "[encoded data removed]",
      "text/plain": [
       "<Figure size 432x288 with 1 Axes>"
      ]
     },
     "metadata": {},
     "output_type": "display_data"
    },
    {
     "data": {
      "image/png": "[encoded data removed]",
      "text/plain": [
       "<Figure size 432x288 with 1 Axes>"
      ]
     },
     "metadata": {},
     "output_type": "display_data"
    },
    {
     "data": {
      "image/png": "[encoded data removed]",
      "text/plain": [
       "<Figure size 432x288 with 1 Axes>"
      ]
     },
     "metadata": {},
     "output_type": "display_data"
    },
    {
     "data": {
      "image/png": "[encoded data removed]",
      "text/plain": [
       "<Figure size 432x288 with 1 Axes>"
      ]
     },
     "metadata": {},
     "output_type": "display_data"
    },
    {
     "data": {
      "image/png": "[encoded data removed]",
      "text/plain": [
       "<Figure size 432x288 with 1 Axes>"
      ]
     },
     "metadata": {},
     "output_type": "display_data"
    },
    {
     "data": {
      "image/png": "[encoded data removed]",
      "text/plain": [
       "<Figure size 432x288 with 1 Axes>"
      ]
     },
     "metadata": {},
     "output_type": "display_data"
    },
    {
     "data": {
      "image/png": "[encoded data removed]",
      "text/plain": [
       "<Figure size 432x288 with 1 Axes>"
      ]
     },
     "metadata": {},
     "output_type": "display_data"
    },
    {
     "data": {
      "image/png": "[encoded data removed]",
      "text/plain": [
       "<Figure size 432x288 with 1 Axes>"
      ]
     },
     "metadata": {},
     "output_type": "display_data"
    },
    {
     "data": {
      "image/png": "[encoded data removed]",
      "text/plain": [
       "<Figure size 432x288 with 1 Axes>"
      ]
     },
     "metadata": {},
     "output_type": "display_data"
    },
    {
     "data": {
      "image/png": "[encoded data removed]",
      "text/plain": [
       "<Figure size 432x288 with 1 Axes>"
      ]
     },
     "metadata": {},
     "output_type": "display_data"
    },
    {
     "data": {
      "image/png": "[encoded data removed]",
      "text/plain": [
       "<Figure size 432x288 with 1 Axes>"
      ]
     },
     "metadata": {},
     "output_type": "display_data"
    },
    {
     "data": {
      "image/png": "[encoded data removed]",
      "text/plain": [
       "<Figure size 432x288 with 1 Axes>"
      ]
     },
     "metadata": {},
     "output_type": "display_data"
    },
    {
     "data": {
      "image/png": "[encoded data removed]",
      "text/plain": [
       "<Figure size 432x288 with 1 Axes>"
      ]
     },
     "metadata": {},
     "output_type": "display_data"
    },
    {
     "data": {
      "image/png": "[encoded data removed]",
      "text/plain": [
       "<Figure size 6x4 with 1 Axes>"
      ]
     },
     "metadata": {},
     "output_type": "display_data"
    }
   ],
   "source": [
    "%matplotlib inline\n",
    "import time # for tracking time\n",
    "\n",
    "tStart = time.time()\n",
    "\n",
    "# first create an instance of the TpgTrainer\n",
    "# this creates the whole population and everything\n",
    "trainer = TpgTrainer(actions=range(7), teamPopSize=50)\n",
    "\n",
    "curScores = [] # hold scores in a generation\n",
    "summaryScores = [] # record score summaries for each gen (min, max, avg)\n",
    "\n",
    "# 5 generations isn't much (not even close), but some improvements\n",
    "# should be seen.\n",
    "for gen in range(5): # generation loop\n",
    "    curScores = [] # new list per gen\n",
    "    \n",
    "    while True: # loop to go through agents\n",
    "        teamNum = trainer.remainingAgents()\n",
    "        agent = trainer.getNextAgent()\n",
    "        if agent is None:\n",
    "            break # no more agents, so proceed to next gen\n",
    "        \n",
    "        # check if agent already has score\n",
    "        if agent.taskDone():\n",
    "            score = agent.getOutcome()\n",
    "        else:\n",
    "            state = env.reset() # get initial state and prep environment\n",
    "            score = 0\n",
    "            for i in range(200): # run episodes that last 200 frames\n",
    "                show_state(env, i, 'Assault', 'Gen #' + str(gen) + \n",
    "                           ', Team #' + str(teamNum) +\n",
    "                           ', Score: ' + str(score)) # render env\n",
    "\n",
    "                act = agent.act(getState(state)) # get action from agent\n",
    "\n",
    "                # feedback from env\n",
    "                state, reward, isDone, debug = env.step(act)\n",
    "                score += reward # accumulate reward in score\n",
    "                if isDone:\n",
    "                    break # end early if losing state\n",
    "\n",
    "            agent.reward(score) # must reward agent (if didn't already score)\n",
    "            \n",
    "        curScores.append(score) # store score\n",
    "            \n",
    "    # at end of generation, make summary of scores\n",
    "    summaryScores.append((min(curScores), max(curScores),\n",
    "                    sum(curScores)/len(curScores))) # min, max, avg\n",
    "    trainer.evolve()\n",
    "    \n",
    "#clear_output(wait=True)\n",
    "print('Time Taken (Seconds): ' + str(time.time() - tStart))\n",
    "print('Results:\\nMin, Max, Avg')\n",
    "for result in summaryScores:\n",
    "    print(result[0],result[1],result[2])"
   ]
  },
  {
   "cell_type": "markdown",
   "metadata": {},
   "source": [
    "## Example: Generational Selection with Multiprocessing (no graphics)"
   ]
  },
  {
   "cell_type": "markdown",
   "metadata": {},
   "source": [
    "This example is just to show a different way to run the API. It uses a different method to get the agents, doesn't use graphics, and uses multiprocessing. For a more in depth comparison of run performances with different configurations see {Section Name}."
   ]
  },
  {
   "cell_type": "code",
   "execution_count": 7,
   "metadata": {},
   "outputs": [],
   "source": [
    "# run agent in function to work with multiprocessing\n",
    "def runAgent(agenteqsq):\n",
    "    agent = agenteqsq[0] # get agent\n",
    "    eq = agenteqsq[1] # get environment queue\n",
    "    sq = agenteqsq[2] # get score queue\n",
    "    \n",
    "    # check if agent already has score\n",
    "    if agent.taskDone():\n",
    "        print('Agent #' + str(agent.getAgentNum()) + ' can skip.')\n",
    "        sq.put((agent.getUid(), agent.getOutcomes()))\n",
    "        return\n",
    "        \n",
    "    print('envs in queue:',eq.qsize())\n",
    "    env = eq.get() # get an environment\n",
    "    state = env.reset() # get initial state and prep environment\n",
    "    score = 0\n",
    "    for i in range(1000): # run episodes that last 200 frames\n",
    "        act = agent.act(getState(state)) # get action from agent\n",
    "\n",
    "        # feedback from env\n",
    "        state, reward, isDone, debug = env.step(act)\n",
    "        score += reward # accumulate reward in score\n",
    "        if isDone:\n",
    "            break # end early if losing state\n",
    "            \n",
    "    lock.acquire() # may not actually need, mp is weird in python\n",
    "    agent.reward(score) # must reward agent\n",
    "    lock.release()\n",
    "    \n",
    "    print('Agent #' + str(agent.getAgentNum()) + ' finished with score ' + str(score))\n",
    "    sq.put((agent.getUid(), agent.getOutcomes())) # get outcomes with id\n",
    "    eq.put(env) # put environment back"
   ]
  },
  {
   "cell_type": "code",
   "execution_count": 7,
   "metadata": {
    "scrolled": true
   },
   "outputs": [
    {
     "name": "stdout",
     "output_type": "stream",
     "text": [
      "envs in queue: 6\n",
      "envs in queue: 5\n",
      "envs in queue: 4\n",
      "Agent #49 finished with score 0.0\n",
      "envs in queue: 4\n",
      "envs in queue: 3\n",
      "Agent #46 finished with score 0.0\n",
      "envs in queue: 3\n",
      "envs in queue: 2\n",
      "Agent #43 finished with score 0.0\n",
      "envs in queue: 2\n",
      "envs in queue: 1\n",
      "Agent #48 finished with score 0.0\n",
      "Agent #40 finished with score 0.0\n",
      "envs in queue: 1\n",
      "envs in queue: 1\n",
      "Agent #45 finished with score 0.0\n",
      "envs in queue: 1\n",
      "Agent #42 finished with score 0.0\n",
      "Agent #37 finished with score 0.0\n",
      "envs in queue: 1\n",
      "envs in queue: 1\n",
      "Agent #34 finished with score 0.0\n",
      "envs in queue: 1\n",
      "Agent #47 finished with score 63.0\n",
      "Agent #39 finished with score 0.0\n",
      "Agent #44 finished with score 0.0\n",
      "envs in queue: 2\n",
      "Agent #41 finished with score 0.0\n",
      "Agent #36 finished with score 0.0\n",
      "envs in queue: 4\n",
      "Agent #33 finished with score 0.0\n",
      "envs in queue: 3\n",
      "envs in queue: 3\n",
      "envs in queue: 2\n",
      "Agent #38 finished with score 0.0\n",
      "envs in queue: 2\n"
     ]
    },
    {
     "name": "stderr",
     "output_type": "stream",
     "text": [
      "Process ForkPoolWorker-31:\n",
      "Process ForkPoolWorker-35:\n",
      "Process ForkPoolWorker-34:\n"
     ]
    },
    {
     "ename": "KeyboardInterrupt",
     "evalue": "",
     "output_type": "error",
     "traceback": [
      "\u001b[0;31m---------------------------------------------------------------------------\u001b[0m",
      "\u001b[0;31mKeyboardInterrupt\u001b[0m                         Traceback (most recent call last)",
      "\u001b[0;32m<ipython-input-7-b56504ac30bb>\u001b[0m in \u001b[0;36m<module>\u001b[0;34m()\u001b[0m\n\u001b[1;32m     29\u001b[0m     pool.map(runAgent, \n\u001b[1;32m     30\u001b[0m                  [(agent, envQueue, scoreQueue) \n\u001b[0;32m---> 31\u001b[0;31m                   for agent in trainer.getAllAgents(skipTasks=[])])\n\u001b[0m\u001b[1;32m     32\u001b[0m \u001b[0;34m\u001b[0m\u001b[0m\n\u001b[1;32m     33\u001b[0m     \u001b[0mscores\u001b[0m \u001b[0;34m=\u001b[0m \u001b[0;34m[\u001b[0m\u001b[0;34m]\u001b[0m \u001b[0;31m# convert scores into list\u001b[0m\u001b[0;34m\u001b[0m\u001b[0;34m\u001b[0m\u001b[0m\n",
      "\u001b[0;32m/usr/lib/python3.6/multiprocessing/pool.py\u001b[0m in \u001b[0;36mmap\u001b[0;34m(self, func, iterable, chunksize)\u001b[0m\n\u001b[1;32m    286\u001b[0m         \u001b[0;32min\u001b[0m \u001b[0ma\u001b[0m \u001b[0mlist\u001b[0m \u001b[0mthat\u001b[0m \u001b[0;32mis\u001b[0m \u001b[0mreturned\u001b[0m\u001b[0;34m.\u001b[0m\u001b[0;34m\u001b[0m\u001b[0;34m\u001b[0m\u001b[0m\n\u001b[1;32m    287\u001b[0m         '''\n\u001b[0;32m--> 288\u001b[0;31m         \u001b[0;32mreturn\u001b[0m \u001b[0mself\u001b[0m\u001b[0;34m.\u001b[0m\u001b[0m_map_async\u001b[0m\u001b[0;34m(\u001b[0m\u001b[0mfunc\u001b[0m\u001b[0;34m,\u001b[0m \u001b[0miterable\u001b[0m\u001b[0;34m,\u001b[0m \u001b[0mmapstar\u001b[0m\u001b[0;34m,\u001b[0m \u001b[0mchunksize\u001b[0m\u001b[0;34m)\u001b[0m\u001b[0;34m.\u001b[0m\u001b[0mget\u001b[0m\u001b[0;34m(\u001b[0m\u001b[0;34m)\u001b[0m\u001b[0;34m\u001b[0m\u001b[0;34m\u001b[0m\u001b[0m\n\u001b[0m\u001b[1;32m    289\u001b[0m \u001b[0;34m\u001b[0m\u001b[0m\n\u001b[1;32m    290\u001b[0m     \u001b[0;32mdef\u001b[0m \u001b[0mstarmap\u001b[0m\u001b[0;34m(\u001b[0m\u001b[0mself\u001b[0m\u001b[0;34m,\u001b[0m \u001b[0mfunc\u001b[0m\u001b[0;34m,\u001b[0m \u001b[0miterable\u001b[0m\u001b[0;34m,\u001b[0m \u001b[0mchunksize\u001b[0m\u001b[0;34m=\u001b[0m\u001b[0;32mNone\u001b[0m\u001b[0;34m)\u001b[0m\u001b[0;34m:\u001b[0m\u001b[0;34m\u001b[0m\u001b[0;34m\u001b[0m\u001b[0m\n",
      "\u001b[0;32m/usr/lib/python3.6/multiprocessing/pool.py\u001b[0m in \u001b[0;36mget\u001b[0;34m(self, timeout)\u001b[0m\n\u001b[1;32m    662\u001b[0m \u001b[0;34m\u001b[0m\u001b[0m\n\u001b[1;32m    663\u001b[0m     \u001b[0;32mdef\u001b[0m \u001b[0mget\u001b[0m\u001b[0;34m(\u001b[0m\u001b[0mself\u001b[0m\u001b[0;34m,\u001b[0m \u001b[0mtimeout\u001b[0m\u001b[0;34m=\u001b[0m\u001b[0;32mNone\u001b[0m\u001b[0;34m)\u001b[0m\u001b[0;34m:\u001b[0m\u001b[0;34m\u001b[0m\u001b[0;34m\u001b[0m\u001b[0m\n\u001b[0;32m--> 664\u001b[0;31m         \u001b[0mself\u001b[0m\u001b[0;34m.\u001b[0m\u001b[0mwait\u001b[0m\u001b[0;34m(\u001b[0m\u001b[0mtimeout\u001b[0m\u001b[0;34m)\u001b[0m\u001b[0;34m\u001b[0m\u001b[0;34m\u001b[0m\u001b[0m\n\u001b[0m\u001b[1;32m    665\u001b[0m         \u001b[0;32mif\u001b[0m \u001b[0;32mnot\u001b[0m \u001b[0mself\u001b[0m\u001b[0;34m.\u001b[0m\u001b[0mready\u001b[0m\u001b[0;34m(\u001b[0m\u001b[0;34m)\u001b[0m\u001b[0;34m:\u001b[0m\u001b[0;34m\u001b[0m\u001b[0;34m\u001b[0m\u001b[0m\n\u001b[1;32m    666\u001b[0m             \u001b[0;32mraise\u001b[0m \u001b[0mTimeoutError\u001b[0m\u001b[0;34m\u001b[0m\u001b[0;34m\u001b[0m\u001b[0m\n",
      "\u001b[0;32m/usr/lib/python3.6/multiprocessing/pool.py\u001b[0m in \u001b[0;36mwait\u001b[0;34m(self, timeout)\u001b[0m\n\u001b[1;32m    659\u001b[0m \u001b[0;34m\u001b[0m\u001b[0m\n\u001b[1;32m    660\u001b[0m     \u001b[0;32mdef\u001b[0m \u001b[0mwait\u001b[0m\u001b[0;34m(\u001b[0m\u001b[0mself\u001b[0m\u001b[0;34m,\u001b[0m \u001b[0mtimeout\u001b[0m\u001b[0;34m=\u001b[0m\u001b[0;32mNone\u001b[0m\u001b[0;34m)\u001b[0m\u001b[0;34m:\u001b[0m\u001b[0;34m\u001b[0m\u001b[0;34m\u001b[0m\u001b[0m\n\u001b[0;32m--> 661\u001b[0;31m         \u001b[0mself\u001b[0m\u001b[0;34m.\u001b[0m\u001b[0m_event\u001b[0m\u001b[0;34m.\u001b[0m\u001b[0mwait\u001b[0m\u001b[0;34m(\u001b[0m\u001b[0mtimeout\u001b[0m\u001b[0;34m)\u001b[0m\u001b[0;34m\u001b[0m\u001b[0;34m\u001b[0m\u001b[0m\n\u001b[0m\u001b[1;32m    662\u001b[0m \u001b[0;34m\u001b[0m\u001b[0m\n\u001b[1;32m    663\u001b[0m     \u001b[0;32mdef\u001b[0m \u001b[0mget\u001b[0m\u001b[0;34m(\u001b[0m\u001b[0mself\u001b[0m\u001b[0;34m,\u001b[0m \u001b[0mtimeout\u001b[0m\u001b[0;34m=\u001b[0m\u001b[0;32mNone\u001b[0m\u001b[0;34m)\u001b[0m\u001b[0;34m:\u001b[0m\u001b[0;34m\u001b[0m\u001b[0;34m\u001b[0m\u001b[0m\n",
      "\u001b[0;32m/usr/lib/python3.6/threading.py\u001b[0m in \u001b[0;36mwait\u001b[0;34m(self, timeout)\u001b[0m\n\u001b[1;32m    549\u001b[0m             \u001b[0msignaled\u001b[0m \u001b[0;34m=\u001b[0m \u001b[0mself\u001b[0m\u001b[0;34m.\u001b[0m\u001b[0m_flag\u001b[0m\u001b[0;34m\u001b[0m\u001b[0;34m\u001b[0m\u001b[0m\n\u001b[1;32m    550\u001b[0m             \u001b[0;32mif\u001b[0m \u001b[0;32mnot\u001b[0m \u001b[0msignaled\u001b[0m\u001b[0;34m:\u001b[0m\u001b[0;34m\u001b[0m\u001b[0;34m\u001b[0m\u001b[0m\n\u001b[0;32m--> 551\u001b[0;31m                 \u001b[0msignaled\u001b[0m \u001b[0;34m=\u001b[0m \u001b[0mself\u001b[0m\u001b[0;34m.\u001b[0m\u001b[0m_cond\u001b[0m\u001b[0;34m.\u001b[0m\u001b[0mwait\u001b[0m\u001b[0;34m(\u001b[0m\u001b[0mtimeout\u001b[0m\u001b[0;34m)\u001b[0m\u001b[0;34m\u001b[0m\u001b[0;34m\u001b[0m\u001b[0m\n\u001b[0m\u001b[1;32m    552\u001b[0m             \u001b[0;32mreturn\u001b[0m \u001b[0msignaled\u001b[0m\u001b[0;34m\u001b[0m\u001b[0;34m\u001b[0m\u001b[0m\n\u001b[1;32m    553\u001b[0m \u001b[0;34m\u001b[0m\u001b[0m\n",
      "\u001b[0;32m/usr/lib/python3.6/threading.py\u001b[0m in \u001b[0;36mwait\u001b[0;34m(self, timeout)\u001b[0m\n\u001b[1;32m    293\u001b[0m         \u001b[0;32mtry\u001b[0m\u001b[0;34m:\u001b[0m    \u001b[0;31m# restore state no matter what (e.g., KeyboardInterrupt)\u001b[0m\u001b[0;34m\u001b[0m\u001b[0;34m\u001b[0m\u001b[0m\n\u001b[1;32m    294\u001b[0m             \u001b[0;32mif\u001b[0m \u001b[0mtimeout\u001b[0m \u001b[0;32mis\u001b[0m \u001b[0;32mNone\u001b[0m\u001b[0;34m:\u001b[0m\u001b[0;34m\u001b[0m\u001b[0;34m\u001b[0m\u001b[0m\n\u001b[0;32m--> 295\u001b[0;31m                 \u001b[0mwaiter\u001b[0m\u001b[0;34m.\u001b[0m\u001b[0macquire\u001b[0m\u001b[0;34m(\u001b[0m\u001b[0;34m)\u001b[0m\u001b[0;34m\u001b[0m\u001b[0;34m\u001b[0m\u001b[0m\n\u001b[0m\u001b[1;32m    296\u001b[0m                 \u001b[0mgotit\u001b[0m \u001b[0;34m=\u001b[0m \u001b[0;32mTrue\u001b[0m\u001b[0;34m\u001b[0m\u001b[0;34m\u001b[0m\u001b[0m\n\u001b[1;32m    297\u001b[0m             \u001b[0;32melse\u001b[0m\u001b[0;34m:\u001b[0m\u001b[0;34m\u001b[0m\u001b[0;34m\u001b[0m\u001b[0m\n",
      "\u001b[0;31mKeyboardInterrupt\u001b[0m: "
     ]
    },
    {
     "name": "stderr",
     "output_type": "stream",
     "text": [
      "Process ForkPoolWorker-30:\n",
      "Traceback (most recent call last):\n",
      "Traceback (most recent call last):\n",
      "Traceback (most recent call last):\n",
      "Traceback (most recent call last):\n",
      "  File \"/usr/lib/python3.6/multiprocessing/process.py\", line 258, in _bootstrap\n",
      "    self.run()\n",
      "  File \"/usr/lib/python3.6/multiprocessing/process.py\", line 258, in _bootstrap\n",
      "    self.run()\n",
      "  File \"/usr/lib/python3.6/multiprocessing/process.py\", line 93, in run\n",
      "    self._target(*self._args, **self._kwargs)\n",
      "  File \"/usr/lib/python3.6/multiprocessing/process.py\", line 258, in _bootstrap\n",
      "    self.run()\n",
      "  File \"/usr/lib/python3.6/multiprocessing/process.py\", line 93, in run\n",
      "    self._target(*self._args, **self._kwargs)\n",
      "  File \"/usr/lib/python3.6/multiprocessing/pool.py\", line 119, in worker\n",
      "    result = (True, func(*args, **kwds))\n",
      "  File \"/usr/lib/python3.6/multiprocessing/pool.py\", line 44, in mapstar\n",
      "    return list(map(*args))\n",
      "  File \"<ipython-input-6-1b34fdc5623e>\", line 44, in runAgent\n",
      "    act = agent.act(getState(state)) # get action from agent\n",
      "  File \"/usr/lib/python3.6/multiprocessing/process.py\", line 93, in run\n",
      "    self._target(*self._args, **self._kwargs)\n",
      "  File \"/usr/lib/python3.6/multiprocessing/pool.py\", line 119, in worker\n",
      "    result = (True, func(*args, **kwds))\n",
      "  File \"<ipython-input-1-619819e1fa36>\", line 26, in getState\n",
      "    for y in x:\n",
      "  File \"/usr/lib/python3.6/multiprocessing/pool.py\", line 44, in mapstar\n",
      "    return list(map(*args))\n",
      "KeyboardInterrupt\n",
      "  File \"<ipython-input-6-1b34fdc5623e>\", line 44, in runAgent\n",
      "    act = agent.act(getState(state)) # get action from agent\n",
      "  File \"/usr/lib/python3.6/multiprocessing/process.py\", line 258, in _bootstrap\n",
      "    self.run()\n",
      "  File \"/usr/lib/python3.6/multiprocessing/pool.py\", line 119, in worker\n",
      "    result = (True, func(*args, **kwds))\n",
      "  File \"/usr/lib/python3.6/multiprocessing/pool.py\", line 44, in mapstar\n",
      "    return list(map(*args))\n",
      "  File \"/usr/lib/python3.6/multiprocessing/process.py\", line 93, in run\n",
      "    self._target(*self._args, **self._kwargs)\n",
      "  File \"<ipython-input-6-1b34fdc5623e>\", line 44, in runAgent\n",
      "    act = agent.act(getState(state)) # get action from agent\n",
      "  File \"<ipython-input-1-619819e1fa36>\", line 27, in getState\n",
      "    state2.append(y[0])\n",
      "  File \"<ipython-input-1-619819e1fa36>\", line 26, in getState\n",
      "    for y in x:\n",
      "  File \"/usr/lib/python3.6/multiprocessing/pool.py\", line 119, in worker\n",
      "    result = (True, func(*args, **kwds))\n",
      "KeyboardInterrupt\n",
      "KeyboardInterrupt\n",
      "  File \"/usr/lib/python3.6/multiprocessing/pool.py\", line 44, in mapstar\n",
      "    return list(map(*args))\n",
      "  File \"<ipython-input-6-1b34fdc5623e>\", line 44, in runAgent\n",
      "    act = agent.act(getState(state)) # get action from agent\n",
      "  File \"<ipython-input-1-619819e1fa36>\", line 27, in getState\n",
      "    state2.append(y[0])\n",
      "Process ForkPoolWorker-33:\n",
      "KeyboardInterrupt\n",
      "Traceback (most recent call last):\n",
      "  File \"/usr/lib/python3.6/multiprocessing/process.py\", line 258, in _bootstrap\n",
      "    self.run()\n",
      "  File \"/usr/lib/python3.6/multiprocessing/process.py\", line 93, in run\n",
      "    self._target(*self._args, **self._kwargs)\n",
      "  File \"/usr/lib/python3.6/multiprocessing/pool.py\", line 108, in worker\n",
      "    task = get()\n",
      "  File \"/usr/lib/python3.6/multiprocessing/queues.py\", line 337, in get\n",
      "    return _ForkingPickler.loads(res)\n",
      "  File \"/usr/lib/python3.6/random.py\", line 165, in __setstate__\n",
      "    def __setstate__(self, state):  # for pickle\n",
      "KeyboardInterrupt\n"
     ]
    },
    {
     "name": "stdout",
     "output_type": "stream",
     "text": [
      "Agent #25 finished with score 0.0\n"
     ]
    }
   ],
   "source": [
    "import multiprocessing as mp\n",
    "import time\n",
    "\n",
    "tStart = time.time()\n",
    "\n",
    "lock = mp.Lock()\n",
    "\n",
    "trainer = TpgTrainer(actions=range(7), teamPopSize=50)\n",
    "\n",
    "processes = 6 # how many to run concurrently (4 is best for my local desktop)\n",
    "\n",
    "m = mp.Manager()\n",
    "envQueue = m.Queue()\n",
    "# each process needs its own environment\n",
    "for i in range(processes):\n",
    "    envQueue.put(gym.make('Assault-v0'))\n",
    "\n",
    "pool = mp.Pool(processes=processes)\n",
    "    \n",
    "summaryScores = [] # record score summaries for each gen (min, max, avg)\n",
    "    \n",
    "    \n",
    "for gen in range(10): # generation loop\n",
    "    scoreQueue = m.Queue() # hold agents when finish, to actually apply score\n",
    "\n",
    "    # run generation\n",
    "    # skipTasks=[] so we get all agents, even if already scored,\n",
    "    # just to report the obtained score for all agents.\n",
    "    pool.map(runAgent, \n",
    "                 [(agent, envQueue, scoreQueue) \n",
    "                  for agent in trainer.getAllAgents(skipTasks=[])])\n",
    "    \n",
    "    scores = [] # convert scores into list\n",
    "    while not scoreQueue.empty():\n",
    "        scores.append(scoreQueue.get())\n",
    "    \n",
    "    # apply scores\n",
    "    trainer.applyScores(scores)\n",
    "    trainer.evolve(tasks=[]) # go into next gen\n",
    "\n",
    "    # at end of generation, make summary of scores\n",
    "    summaryScores.append((trainer.scoreStats['min'], \n",
    "                    trainer.scoreStats['max'],\n",
    "                    trainer.scoreStats['average'])) # min, max, avg\n",
    "    \n",
    "    clear_output(wait=True)\n",
    "    print('Time Taken (Seconds): ' + str(time.time() - tStart))\n",
    "    print('Results so far: ' + str(summaryScores))\n",
    "    \n",
    "clear_output(wait=True)\n",
    "print('Time Taken (Seconds): ' + str(time.time() - tStart))\n",
    "print('Results: ' + str(summaryScores))"
   ]
  },
  {
   "cell_type": "markdown",
   "metadata": {
    "collapsed": true
   },
   "source": [
    "## Tournament Selection"
   ]
  },
  {
   "cell_type": "code",
   "execution_count": 4,
   "metadata": {
    "scrolled": true
   },
   "outputs": [
    {
     "name": "stdout",
     "output_type": "stream",
     "text": [
      "Time Taken (Seconds): 45202.94136309624\n",
      "Results: [(0, 16905.0, 50.91867469879518), (0, 31521.0, 99.43533123028391), (0, 47733.0, 157.01644736842104), (0, 59262.0, 196.2317880794702), (0, 63903.0, 215.16161616161617), (0, 66339.0, 230.34375), (0, 68754.0, 242.09154929577466), (0, 68460.0, 244.5), (0, 73290.0, 251.8556701030928), (0, 70371.0, 256.8284671532847)]\n"
     ]
    }
   ],
   "source": [
    "import multiprocessing as mp\n",
    "import time\n",
    "\n",
    "tStart = time.time()\n",
    "\n",
    "lock = mp.Lock()\n",
    "\n",
    "trainer = TpgTrainer(actions=range(7), teamPopSizeInit=360)\n",
    "\n",
    "processes = 4 # how many to run concurrently (4 is best for my local desktop)\n",
    "\n",
    "m = mp.Manager()\n",
    "envQueue = m.Queue()\n",
    "# each process needs its own environment\n",
    "for i in range(processes):\n",
    "    envQueue.put(gym.make('Assault-v0'))\n",
    "\n",
    "pool = mp.Pool(processes=processes)\n",
    "    \n",
    "summaryScores = [] # record score summaries for population\n",
    "    \n",
    "# tournament loop \n",
    "# 450 tournaments of size 8 approximately equals 10 generations\n",
    "# *at pop size 360\n",
    "for tourn in range(450): \n",
    "    scoreQueue = m.Queue() # hold agents when finish, to actually apply score\n",
    "\n",
    "    # run tournament\n",
    "    # skipTasks=[] so we get all agents, even if already scored,\n",
    "    # just to report the obtained score for all agents.\n",
    "    pool.map(runAgent, \n",
    "                 [(agent, envQueue, scoreQueue) \n",
    "                  for agent in trainer.getTournamentAgents()])\n",
    "    \n",
    "    scores = [] # convert scores into list\n",
    "    while not scoreQueue.empty():\n",
    "        scores.append(scoreQueue.get())\n",
    "    \n",
    "    # apply scores\n",
    "    teams = trainer.applyScores(scores) # get teams from trainer\n",
    "    trainer.evolve(tourneyTeams=teams,tasks=[]) # evolve tournament players\n",
    "    \n",
    "    # report score once equivalent to a generation\n",
    "    if (tourn+1) % 45 == 0:\n",
    "        scoreStats = trainer.generateScoreStats()\n",
    "\n",
    "        # at end of generation, make summary of scores\n",
    "        summaryScores.append((scoreStats['min'], \n",
    "                        scoreStats['max'],\n",
    "                        scoreStats['average'])) # min, max, avg\n",
    "\n",
    "        clear_output(wait=True)\n",
    "        print('Time Taken (Seconds): ' + str(time.time() - tStart))\n",
    "        print('Results so far: ' + str(summaryScores))\n",
    "    \n",
    "clear_output(wait=True)\n",
    "print('Time Taken (Seconds): ' + str(time.time() - tStart))\n",
    "print('Results: ' + str(summaryScores))"
   ]
  },
  {
   "cell_type": "code",
   "execution_count": 36,
   "metadata": {},
   "outputs": [
    {
     "data": {
      "text/html": [
       "<script>requirejs.config({paths: { 'plotly': ['https://cdn.plot.ly/plotly-latest.min']},});if(!window.Plotly) {{require(['plotly'],function(plotly) {window.Plotly=plotly;});}}</script>"
      ],
      "text/vnd.plotly.v1+html": [
       "<script>requirejs.config({paths: { 'plotly': ['https://cdn.plot.ly/plotly-latest.min']},});if(!window.Plotly) {{require(['plotly'],function(plotly) {window.Plotly=plotly;});}}</script>"
      ]
     },
     "metadata": {},
     "output_type": "display_data"
    }
   ],
   "source": [
    "from plotly.offline import download_plotlyjs, init_notebook_mode, plot, iplot\n",
    "import plotly.graph_objs as go\n",
    "import numpy as np\n",
    "import math\n",
    "\n",
    "init_notebook_mode(connected=True)\n",
    "import multiprocessing as mp\n",
    "import time\n",
    "\n",
    "\n",
    "# run agent in function to work with multiprocessing\n",
    "def runAgent(agenteqsq):\n",
    "    agent = agenteqsq[0] # get agent\n",
    "    eq = agenteqsq[1] # get environment queue\n",
    "    sq = agenteqsq[2] # get score queue\n",
    "    \n",
    "    # check if agent already has score\n",
    "    if agent.taskDone():\n",
    "        sq.put((agent.getUid(), agent.getOutcomes()))\n",
    "        return\n",
    "        \n",
    "    env = eq.get() # get an environment\n",
    "    state = env.reset() # get initial state and prep environment\n",
    "    score = 0\n",
    "    for i in range(agenteqsq[3]): # run episodes that last 200 frames\n",
    "        act = agent.act(getState(state)) # get action from agent\n",
    "\n",
    "        # feedback from env\n",
    "        state, reward, isDone, debug = env.step(act)\n",
    "        score += reward # accumulate reward in score\n",
    "        if isDone:\n",
    "            break # end early if losing state\n",
    "            \n",
    "    lock.acquire() # may not actually need, mp is weird in python\n",
    "    agent.reward(score) # must reward agent\n",
    "    lock.release()\n",
    "    \n",
    "    sq.put((agent.getUid(), agent.getOutcomes())) # get outcomes with id\n",
    "    eq.put(env) # put environment back\n",
    "    \n",
    "def gamebegin(generation,gametitle,processes,frames,action, rs, tpopsize, rtpopSize,\n",
    "            curr_gap, pLearnerD, pLearnerA, pMutation,\n",
    "            pAIT, mts, mps,\n",
    "            ppd, ppa, pps,\n",
    "            ppm, ppit, tgap,\n",
    "            ar):\n",
    "\n",
    "    tStart = time.time()\n",
    "\n",
    "    lock = mp.Lock()\n",
    "\n",
    "    trainer = TpgTrainer(actions=action, randSeed=rs, teamPopSize=tpopsize, rTeamPopSize=rtpopSize,\n",
    "                    gap=curr_gap, pLearnerDelete=pLearnerD, pLearnerAdd=pLearnerA, pMutateAction=pMutation,\n",
    "                    pActionIsTeam=pAIT, maxTeamSize=mts, maxProgramSize=mps,\n",
    "                    pProgramDelete=ppd, pProgramAdd=ppa, pProgramSwap=pps,\n",
    "                    pProgramMutate=ppm, popInit=ppit, tourneyGap=tgap,\n",
    "                    actionRange=ar)\n",
    "\n",
    "\n",
    "    m = mp.Manager()\n",
    "    envQueue = m.Queue()\n",
    "    # each process needs its own environment\n",
    "    for i in range(processes):\n",
    "        envQueue.put(gym.make(gametitle))\n",
    "\n",
    "    pool = mp.Pool(processes=processes)\n",
    "\n",
    "    summaryScores = [] # record score summaries for each gen (min, max, avg)\n",
    "\n",
    "\n",
    "    for gen in range(generation): # generation loop\n",
    "        scoreQueue = m.Queue() # hold agents when finish, to actually apply score\n",
    "\n",
    "        # run generation\n",
    "        # skipTasks=[] so we get all agents, even if already scored,\n",
    "        # just to report the obtained score for all agents.\n",
    "        pool.map(runAgent, \n",
    "                     [(agent, envQueue, scoreQueue,frames) \n",
    "                      for agent in trainer.getAllAgents(skipTasks=[])])\n",
    "\n",
    "        scores = [] # convert scores into list\n",
    "        while not scoreQueue.empty():\n",
    "            scores.append(scoreQueue.get())\n",
    "\n",
    "        # apply scores\n",
    "        trainer.applyScores(scores)\n",
    "        trainer.evolve(tasks=[]) # go into next gen\n",
    "\n",
    "        # at end of generation, make summary of scores\n",
    "        summaryScores.append((trainer.scoreStats['min'], \n",
    "                        trainer.scoreStats['max'],\n",
    "                        trainer.scoreStats['average'])) # min, max, avg\n",
    "        print(summaryScores[len(summaryScores)-1])\n",
    "    return summaryScores"
   ]
  },
  {
   "cell_type": "code",
   "execution_count": 35,
   "metadata": {
    "scrolled": true
   },
   "outputs": [
    {
     "name": "stdout",
     "output_type": "stream",
     "text": [
      "(0.0, 84.0, 9.03)\n",
      "Agent #84 can skip.\n",
      "Agent #73 can skip.\n",
      "Agent #72 can skip.\n",
      "Agent #71 can skip.\n",
      "Agent #70 can skip.\n",
      "Agent #69 can skip.\n",
      "Agent #68 can skip.\n",
      "Agent #76 can skip.\n",
      "Agent #75 can skip.\n",
      "Agent #74 can skip.\n",
      "Agent #65 can skip.\n",
      "Agent #64 can skip.\n",
      "Agent #63 can skip.\n",
      "Agent #82 can skip.\n",
      "Agent #66 can skip.\n",
      "Agent #53 can skip.\n",
      "Agent #60 can skip.\n",
      "Agent #44 can skip.\n",
      "Agent #43 can skip.\n",
      "Agent #55 can skip.\n",
      "Agent #50 can skip.\n",
      "Agent #40 can skip.\n",
      "Agent #29 can skip.\n",
      "Agent #25 can skip.\n",
      "Agent #38 can skip.\n",
      "Agent #27 can skip.\n",
      "Agent #21 can skip.\n",
      "Agent #20 can skip.\n",
      "Agent #35 can skip.\n",
      "Agent #34 can skip.\n",
      "Agent #31 can skip.\n",
      "Agent #22 can skip.\n",
      "Agent #1 can skip.\n",
      "Agent #12 can skip.\n",
      "Agent #11 can skip.\n",
      "Agent #4 can skip.\n",
      "Agent #3 can skip.\n",
      "Agent #2 can skip.\n",
      "Agent #14 can skip.\n",
      "Agent #6 can skip.\n",
      "(0.0, 105.0, 18.558139534883722)\n",
      "Agent #74 can skip.\n",
      "Agent #70 can skip.\n",
      "Agent #69 can skip.\n",
      "Agent #68 can skip.\n",
      "Agent #66 can skip.\n",
      "Agent #65 can skip.\n",
      "Agent #77 can skip.\n",
      "Agent #62 can skip.\n",
      "Agent #61 can skip.\n",
      "Agent #72 can skip.\n",
      "Agent #63 can skip.\n",
      "Agent #75 can skip.\n",
      "Agent #50 can skip.\n",
      "Agent #53 can skip.\n",
      "Agent #42 can skip.\n",
      "Agent #41 can skip.\n",
      "Agent #40 can skip.\n",
      "Agent #39 can skip.\n",
      "Agent #48 can skip.\n",
      "Agent #38 can skip.\n",
      "Agent #34 can skip.\n",
      "Agent #55 can skip.\n",
      "Agent #30 can skip.\n",
      "Agent #26 can skip.\n",
      "Agent #25 can skip.\n",
      "Agent #24 can skip.\n",
      "Agent #35 can skip.\n",
      "Agent #43 can skip.\n",
      "Agent #22 can skip.\n",
      "Agent #21 can skip.\n",
      "Agent #28 can skip.\n",
      "Agent #27 can skip.\n",
      "Agent #18 can skip.\n",
      "Agent #10 can skip.\n",
      "Agent #9 can skip.\n",
      "Agent #6 can skip.\n",
      "Agent #5 can skip.\n",
      "Agent #16 can skip.\n",
      "Agent #15 can skip.\n",
      "Agent #7 can skip.\n",
      "Agent #2 can skip.\n",
      "Agent #11 can skip.\n",
      "(0.0, 105.0, 30.6144578313253)\n",
      "Agent #76 can skip.\n",
      "Agent #72 can skip.\n",
      "Agent #64 can skip.\n",
      "Agent #63 can skip.\n",
      "Agent #62 can skip.\n",
      "Agent #61 can skip.\n",
      "Agent #60 can skip.\n",
      "Agent #59 can skip.\n",
      "Agent #58 can skip.\n",
      "Agent #74 can skip.\n",
      "Agent #70 can skip.\n",
      "Agent #78 can skip.\n",
      "Agent #52 can skip.\n",
      "Agent #51 can skip.\n",
      "Agent #55 can skip.\n",
      "Agent #54 can skip.\n",
      "Agent #65 can skip.\n",
      "Agent #36 can skip.\n",
      "Agent #35 can skip.\n",
      "Agent #34 can skip.\n",
      "Agent #33 can skip.\n",
      "Agent #39 can skip.\n",
      "Agent #42 can skip.\n",
      "Agent #37 can skip.\n",
      "Agent #20 can skip.\n",
      "Agent #16 can skip.\n",
      "Agent #15 can skip.\n",
      "Agent #14 can skip.\n",
      "Agent #13 can skip.\n",
      "Agent #45 can skip.\n",
      "Agent #30 can skip.\n",
      "Agent #29 can skip.\n",
      "Agent #4 can skip.\n",
      "Agent #22 can skip.\n",
      "Agent #21 can skip.\n",
      "Agent #11 can skip.\n",
      "Agent #0 can skip.\n",
      "Agent #6 can skip.\n",
      "Agent #1 can skip.\n",
      "(0.0, 105.0, 45.629629629629626)\n",
      "Agent #79 can skip.\n",
      "Agent #71 can skip.\n",
      "Agent #70 can skip.\n",
      "Agent #69 can skip.\n",
      "Agent #68 can skip.\n",
      "Agent #67 can skip.\n",
      "Agent #63 can skip.\n",
      "Agent #62 can skip.\n",
      "Agent #59 can skip.\n",
      "Agent #65 can skip.\n",
      "Agent #57 can skip.\n",
      "Agent #73 can skip.\n",
      "Agent #72 can skip.\n",
      "Agent #54 can skip.\n",
      "Agent #53 can skip.\n",
      "Agent #47 can skip.\n",
      "Agent #46 can skip.\n",
      "Agent #43 can skip.\n",
      "Agent #31 can skip.\n",
      "Agent #44 can skip.\n",
      "Agent #28 can skip.\n",
      "Agent #33 can skip.\n",
      "Agent #23 can skip.\n",
      "Agent #22 can skip.\n",
      "Agent #21 can skip.\n",
      "Agent #20 can skip.\n",
      "Agent #36 can skip.\n",
      "Agent #25 can skip.\n",
      "Agent #24 can skip.\n",
      "Agent #7 can skip.\n",
      "Agent #6 can skip.\n",
      "Agent #5 can skip.\n",
      "Agent #4 can skip.\n",
      "Agent #3 can skip.\n",
      "Agent #2 can skip.\n",
      "Agent #1 can skip.\n",
      "Agent #0 can skip.\n",
      "Agent #10 can skip.\n",
      "Agent #9 can skip.\n",
      "Agent #17 can skip.\n",
      "(0.0, 105.0, 48.0375)\n",
      "Agent #76 can skip.\n",
      "Agent #75 can skip.\n",
      "Agent #68 can skip.\n",
      "Agent #67 can skip.\n",
      "Agent #64 can skip.\n",
      "Agent #56 can skip.\n",
      "Agent #55 can skip.\n",
      "Agent #54 can skip.\n",
      "Agent #62 can skip.\n",
      "Agent #59 can skip.\n",
      "Agent #57 can skip.\n",
      "Agent #69 can skip.\n",
      "Agent #51 can skip.\n",
      "Agent #47 can skip.\n",
      "Agent #43 can skip.\n",
      "Agent #42 can skip.\n",
      "Agent #32 can skip.\n",
      "Agent #39 can skip.\n",
      "Agent #49 can skip.\n",
      "Agent #45 can skip.\n",
      "Agent #24 can skip.\n",
      "Agent #23 can skip.\n",
      "Agent #22 can skip.\n",
      "Agent #29 can skip.\n",
      "Agent #26 can skip.\n",
      "Agent #8 can skip.\n",
      "Agent #7 can skip.\n",
      "Agent #15 can skip.\n",
      "Agent #14 can skip.\n",
      "Agent #13 can skip.\n",
      "Agent #18 can skip.\n",
      "Agent #0 can skip.\n",
      "Agent #3 can skip.\n",
      "Agent #2 can skip.\n",
      "Agent #1 can skip.\n",
      "Agent #10 can skip.\n",
      "Agent #9 can skip.\n",
      "(0.0, 105.0, 49.09090909090909)\n",
      "Agent #74 can skip.\n",
      "Agent #62 can skip.\n",
      "Agent #61 can skip.\n",
      "Agent #60 can skip.\n",
      "Agent #59 can skip.\n",
      "Agent #77 can skip.\n",
      "Agent #72 can skip.\n",
      "Agent #54 can skip.\n",
      "Agent #57 can skip.\n",
      "Agent #56 can skip.\n",
      "Agent #68 can skip.\n",
      "Agent #64 can skip.\n",
      "Agent #63 can skip.\n",
      "Agent #42 can skip.\n",
      "Agent #41 can skip.\n",
      "Agent #40 can skip.\n",
      "Agent #51 can skip.\n",
      "Agent #38 can skip.\n",
      "Agent #49 can skip.\n",
      "Agent #48 can skip.\n",
      "Agent #47 can skip.\n",
      "Agent #45 can skip.\n",
      "Agent #44 can skip.\n",
      "Agent #43 can skip.\n",
      "Agent #26 can skip.\n",
      "Agent #22 can skip.\n",
      "Agent #21 can skip.\n",
      "Agent #20 can skip.\n",
      "Agent #17 can skip.\n",
      "Agent #32 can skip.\n",
      "Agent #31 can skip.\n",
      "Agent #28 can skip.\n",
      "Agent #10 can skip.\n",
      "Agent #9 can skip.\n",
      "Agent #8 can skip.\n",
      "Agent #6 can skip.\n",
      "Agent #1 can skip.\n",
      "Agent #0 can skip.\n",
      "(0.0, 105.0, 53.962025316455694)\n",
      "Agent #72 can skip.\n",
      "Agent #70 can skip.\n",
      "Agent #71 can skip.\n",
      "Agent #68 can skip.\n",
      "Agent #60 can skip.\n",
      "Agent #59 can skip.\n",
      "Agent #63 can skip.\n",
      "Agent #52 can skip.\n",
      "Agent #48 can skip.\n",
      "Agent #54 can skip.\n",
      "Agent #53 can skip.\n",
      "Agent #46 can skip.\n",
      "Agent #36 can skip.\n",
      "Agent #39 can skip.\n",
      "Agent #38 can skip.\n",
      "Agent #37 can skip.\n",
      "Agent #28 can skip.\n",
      "Agent #24 can skip.\n",
      "Agent #23 can skip.\n",
      "Agent #22 can skip.\n",
      "Agent #20 can skip.\n",
      "Agent #33 can skip.\n",
      "Agent #26 can skip.\n",
      "Agent #25 can skip.\n",
      "Agent #31 can skip.\n",
      "Agent #30 can skip.\n",
      "Agent #29 can skip.\n",
      "Agent #12 can skip.\n",
      "Agent #41 can skip.\n",
      "Agent #18 can skip.\n",
      "Agent #4 can skip.\n",
      "Agent #3 can skip.\n",
      "Agent #2 can skip.\n",
      "Agent #1 can skip.\n",
      "Agent #10 can skip.\n",
      "Agent #14 can skip.\n",
      "Agent #13 can skip.\n",
      "Agent #5 can skip.\n",
      "(0.0, 105.0, 57.27272727272727)\n",
      "Agent #67 can skip.\n",
      "Agent #66 can skip.\n",
      "Agent #64 can skip.\n",
      "Agent #55 can skip.\n",
      "Agent #60 can skip.\n",
      "Agent #51 can skip.\n",
      "Agent #57 can skip.\n",
      "Agent #56 can skip.\n",
      "Agent #40 can skip.\n",
      "Agent #39 can skip.\n",
      "Agent #45 can skip.\n",
      "Agent #34 can skip.\n",
      "Agent #33 can skip.\n",
      "Agent #47 can skip.\n",
      "Agent #42 can skip.\n",
      "Agent #41 can skip.\n",
      "Agent #31 can skip.\n",
      "Agent #28 can skip.\n",
      "Agent #27 can skip.\n",
      "Agent #26 can skip.\n",
      "Agent #25 can skip.\n",
      "Agent #24 can skip.\n",
      "Agent #22 can skip.\n",
      "Agent #21 can skip.\n",
      "Agent #20 can skip.\n",
      "Agent #29 can skip.\n",
      "Agent #12 can skip.\n",
      "Agent #18 can skip.\n",
      "Agent #17 can skip.\n",
      "Agent #9 can skip.\n",
      "Agent #14 can skip.\n",
      "Agent #5 can skip.\n",
      "(0.0, 105.0, 57.13235294117647)\n",
      "Agent #72 can skip.\n",
      "Agent #68 can skip.\n",
      "Agent #67 can skip.\n",
      "Agent #64 can skip.\n",
      "Agent #60 can skip.\n",
      "Agent #59 can skip.\n",
      "Agent #58 can skip.\n",
      "Agent #56 can skip.\n",
      "Agent #70 can skip.\n",
      "Agent #69 can skip.\n",
      "Agent #65 can skip.\n",
      "Agent #62 can skip.\n",
      "Agent #48 can skip.\n",
      "Agent #47 can skip.\n",
      "Agent #54 can skip.\n",
      "Agent #53 can skip.\n",
      "Agent #40 can skip.\n",
      "Agent #39 can skip.\n",
      "Agent #51 can skip.\n",
      "Agent #45 can skip.\n",
      "Agent #36 can skip.\n",
      "Agent #32 can skip.\n",
      "Agent #31 can skip.\n",
      "Agent #49 can skip.\n",
      "Agent #42 can skip.\n",
      "Agent #29 can skip.\n",
      "Agent #20 can skip.\n",
      "Agent #16 can skip.\n",
      "Agent #27 can skip.\n",
      "Agent #18 can skip.\n",
      "Agent #23 can skip.\n",
      "Agent #33 can skip.\n",
      "Agent #25 can skip.\n",
      "Agent #21 can skip.\n",
      "Agent #7 can skip.\n",
      "Agent #3 can skip.\n",
      "Agent #10 can skip.\n",
      "Agent #9 can skip.\n",
      "Agent #1 can skip.\n",
      "(0.0, 105.0, 58.90909090909091)\n",
      "Agent #65 can skip.\n",
      "Agent #63 can skip.\n",
      "Agent #64 can skip.\n",
      "Agent #57 can skip.\n",
      "Agent #56 can skip.\n",
      "Agent #55 can skip.\n",
      "Agent #54 can skip.\n",
      "Agent #72 can skip.\n",
      "Agent #45 can skip.\n",
      "Agent #44 can skip.\n",
      "Agent #60 can skip.\n",
      "Agent #70 can skip.\n",
      "Agent #41 can skip.\n",
      "Agent #40 can skip.\n",
      "Agent #47 can skip.\n",
      "Agent #46 can skip.\n",
      "Agent #37 can skip.\n",
      "Agent #38 can skip.\n",
      "Agent #33 can skip.\n",
      "Agent #32 can skip.\n",
      "Agent #31 can skip.\n",
      "Agent #50 can skip.\n",
      "Agent #25 can skip.\n",
      "Agent #24 can skip.\n",
      "Agent #23 can skip.\n",
      "Agent #22 can skip.\n",
      "Agent #17 can skip.\n",
      "Agent #16 can skip.\n",
      "Agent #9 can skip.\n",
      "Agent #8 can skip.\n",
      "Agent #20 can skip.\n",
      "Agent #14 can skip.\n",
      "Agent #12 can skip.\n",
      "Agent #11 can skip.\n",
      "Agent #10 can skip.\n",
      "Agent #27 can skip.\n",
      "Agent #6 can skip.\n",
      "Agent #18 can skip.\n",
      "Agent #4 can skip.\n",
      "Agent #2 can skip.\n",
      "(0.0, 105.0, 56.189189189189186)\n",
      "Agent #74 can skip.\n",
      "Agent #70 can skip.\n",
      "Agent #58 can skip.\n",
      "Agent #57 can skip.\n",
      "Agent #72 can skip.\n",
      "Agent #68 can skip.\n",
      "Agent #67 can skip.\n",
      "Agent #61 can skip.\n",
      "Agent #50 can skip.\n",
      "Agent #49 can skip.\n",
      "Agent #48 can skip.\n"
     ]
    },
    {
     "name": "stdout",
     "output_type": "stream",
     "text": [
      "Agent #65 can skip.\n",
      "Agent #64 can skip.\n",
      "Agent #46 can skip.\n",
      "Agent #45 can skip.\n",
      "Agent #53 can skip.\n",
      "Agent #42 can skip.\n",
      "Agent #43 can skip.\n",
      "Agent #51 can skip.\n",
      "Agent #30 can skip.\n",
      "Agent #26 can skip.\n",
      "Agent #25 can skip.\n",
      "Agent #24 can skip.\n",
      "Agent #21 can skip.\n",
      "Agent #20 can skip.\n",
      "Agent #36 can skip.\n",
      "Agent #27 can skip.\n",
      "Agent #31 can skip.\n",
      "Agent #10 can skip.\n",
      "Agent #6 can skip.\n",
      "Agent #5 can skip.\n",
      "Agent #4 can skip.\n",
      "Agent #8 can skip.\n",
      "Agent #7 can skip.\n",
      "Agent #16 can skip.\n",
      "Agent #0 can skip.\n",
      "(0.0, 105.0, 55.16)\n",
      "Agent #75 can skip.\n",
      "Agent #59 can skip.\n",
      "Agent #55 can skip.\n",
      "Agent #54 can skip.\n",
      "Agent #53 can skip.\n",
      "Agent #62 can skip.\n",
      "Agent #61 can skip.\n",
      "Agent #60 can skip.\n",
      "Agent #66 can skip.\n",
      "Agent #65 can skip.\n",
      "Agent #51 can skip.\n",
      "Agent #72 can skip.\n",
      "Agent #57 can skip.\n",
      "Agent #43 can skip.\n",
      "Agent #42 can skip.\n",
      "Agent #69 can skip.\n",
      "Agent #68 can skip.\n",
      "Agent #46 can skip.\n",
      "Agent #31 can skip.\n",
      "Agent #30 can skip.\n",
      "Agent #29 can skip.\n",
      "Agent #34 can skip.\n",
      "Agent #33 can skip.\n",
      "Agent #48 can skip.\n",
      "Agent #19 can skip.\n",
      "Agent #36 can skip.\n",
      "Agent #11 can skip.\n",
      "Agent #10 can skip.\n",
      "Agent #9 can skip.\n",
      "Agent #7 can skip.\n",
      "Agent #14 can skip.\n",
      "Agent #12 can skip.\n",
      "Agent #5 can skip.\n",
      "Agent #4 can skip.\n",
      "Agent #2 can skip.\n",
      "Agent #0 can skip.\n",
      "(0.0, 105.0, 53.328947368421055)\n",
      "Agent #70 can skip.\n",
      "Agent #69 can skip.\n",
      "Agent #66 can skip.\n",
      "Agent #64 can skip.\n",
      "Agent #65 can skip.\n",
      "Agent #67 can skip.\n",
      "Agent #61 can skip.\n",
      "Agent #50 can skip.\n",
      "Agent #49 can skip.\n",
      "Agent #72 can skip.\n",
      "Agent #71 can skip.\n",
      "Agent #46 can skip.\n",
      "Agent #45 can skip.\n",
      "Agent #53 can skip.\n",
      "Agent #59 can skip.\n",
      "Agent #56 can skip.\n",
      "Agent #43 can skip.\n",
      "Agent #30 can skip.\n",
      "Agent #37 can skip.\n",
      "Agent #40 can skip.\n",
      "Agent #39 can skip.\n",
      "Agent #26 can skip.\n",
      "Agent #18 can skip.\n",
      "Agent #17 can skip.\n",
      "Agent #16 can skip.\n",
      "Agent #35 can skip.\n",
      "Agent #14 can skip.\n",
      "Agent #20 can skip.\n",
      "Agent #19 can skip.\n",
      "Agent #32 can skip.\n",
      "Agent #27 can skip.\n",
      "Agent #12 can skip.\n",
      "Agent #6 can skip.\n",
      "Agent #23 can skip.\n",
      "Agent #1 can skip.\n",
      "Agent #8 can skip.\n",
      "Agent #7 can skip.\n",
      "(0.0, 105.0, 55.72)\n",
      "Agent #76 can skip.\n",
      "Agent #75 can skip.\n",
      "Agent #74 can skip.\n",
      "Agent #72 can skip.\n",
      "Agent #68 can skip.\n",
      "Agent #64 can skip.\n",
      "Agent #63 can skip.\n",
      "Agent #62 can skip.\n",
      "Agent #61 can skip.\n",
      "Agent #56 can skip.\n",
      "Agent #55 can skip.\n",
      "Agent #70 can skip.\n",
      "Agent #48 can skip.\n",
      "Agent #47 can skip.\n",
      "Agent #66 can skip.\n",
      "Agent #65 can skip.\n",
      "Agent #59 can skip.\n",
      "Agent #53 can skip.\n",
      "Agent #40 can skip.\n",
      "Agent #39 can skip.\n",
      "Agent #38 can skip.\n",
      "Agent #51 can skip.\n",
      "Agent #45 can skip.\n",
      "Agent #32 can skip.\n",
      "Agent #43 can skip.\n",
      "Agent #42 can skip.\n",
      "Agent #41 can skip.\n",
      "Agent #28 can skip.\n",
      "Agent #24 can skip.\n",
      "Agent #30 can skip.\n",
      "Agent #29 can skip.\n",
      "Agent #16 can skip.\n",
      "Agent #15 can skip.\n",
      "Agent #34 can skip.\n",
      "Agent #21 can skip.\n",
      "Agent #3 can skip.\n",
      "Agent #6 can skip.\n",
      "Agent #1 can skip.\n",
      "Agent #9 can skip.\n",
      "(0.0, 105.0, 54.54545454545455)\n",
      "Agent #67 can skip.\n",
      "Agent #66 can skip.\n",
      "Agent #65 can skip.\n",
      "Agent #64 can skip.\n",
      "Agent #63 can skip.\n",
      "Agent #62 can skip.\n",
      "Agent #59 can skip.\n",
      "Agent #58 can skip.\n",
      "Agent #57 can skip.\n",
      "Agent #51 can skip.\n",
      "Agent #60 can skip.\n",
      "Agent #49 can skip.\n",
      "Agent #47 can skip.\n",
      "Agent #46 can skip.\n",
      "Agent #45 can skip.\n",
      "Agent #44 can skip.\n",
      "Agent #43 can skip.\n",
      "Agent #42 can skip.\n",
      "Agent #41 can skip.\n",
      "Agent #73 can skip.\n",
      "Agent #72 can skip.\n",
      "Agent #39 can skip.\n",
      "Agent #38 can skip.\n",
      "Agent #35 can skip.\n",
      "Agent #33 can skip.\n",
      "Agent #36 can skip.\n",
      "Agent #26 can skip.\n",
      "Agent #25 can skip.\n",
      "Agent #19 can skip.\n",
      "Agent #15 can skip.\n",
      "Agent #22 can skip.\n",
      "Agent #29 can skip.\n",
      "Agent #17 can skip.\n",
      "Agent #6 can skip.\n",
      "Agent #4 can skip.\n",
      "Agent #1 can skip.\n",
      "(0.0, 105.0, 58.30263157894737)\n",
      "Agent #72 can skip.\n",
      "Agent #64 can skip.\n",
      "Agent #60 can skip.\n",
      "Agent #52 can skip.\n",
      "Agent #51 can skip.\n",
      "Agent #58 can skip.\n",
      "Agent #55 can skip.\n",
      "Agent #49 can skip.\n",
      "Agent #40 can skip.\n",
      "Agent #36 can skip.\n",
      "Agent #32 can skip.\n",
      "Agent #31 can skip.\n",
      "Agent #46 can skip.\n",
      "Agent #45 can skip.\n",
      "Agent #28 can skip.\n",
      "Agent #27 can skip.\n",
      "Agent #26 can skip.\n",
      "Agent #25 can skip.\n",
      "Agent #24 can skip.\n",
      "Agent #20 can skip.\n",
      "Agent #19 can skip.\n",
      "Agent #42 can skip.\n",
      "Agent #41 can skip.\n",
      "Agent #16 can skip.\n",
      "Agent #22 can skip.\n",
      "Agent #21 can skip.\n",
      "Agent #33 can skip.\n",
      "Agent #8 can skip.\n",
      "Agent #4 can skip.\n",
      "Agent #0 can skip.\n",
      "Agent #13 can skip.\n",
      "Agent #6 can skip.\n",
      "Agent #2 can skip.\n",
      "Agent #10 can skip.\n",
      "Agent #9 can skip.\n",
      "(0.0, 105.0, 60.41095890410959)\n",
      "Agent #69 can skip.\n",
      "Agent #68 can skip.\n",
      "Agent #61 can skip.\n",
      "Agent #57 can skip.\n",
      "Agent #76 can skip.\n",
      "Agent #75 can skip.\n",
      "Agent #66 can skip.\n",
      "Agent #64 can skip.\n",
      "Agent #63 can skip.\n",
      "Agent #55 can skip.\n",
      "Agent #54 can skip.\n",
      "Agent #49 can skip.\n",
      "Agent #48 can skip.\n",
      "Agent #41 can skip.\n",
      "Agent #40 can skip.\n",
      "Agent #39 can skip.\n",
      "Agent #44 can skip.\n",
      "Agent #70 can skip.\n",
      "Agent #33 can skip.\n",
      "Agent #51 can skip.\n",
      "Agent #50 can skip.\n",
      "Agent #29 can skip.\n",
      "Agent #28 can skip.\n",
      "Agent #42 can skip.\n",
      "Agent #27 can skip.\n",
      "Agent #26 can skip.\n",
      "Agent #25 can skip.\n",
      "Agent #17 can skip.\n",
      "Agent #16 can skip.\n",
      "Agent #36 can skip.\n",
      "Agent #35 can skip.\n",
      "Agent #34 can skip.\n",
      "Agent #12 can skip.\n",
      "Agent #11 can skip.\n",
      "Agent #30 can skip.\n",
      "Agent #8 can skip.\n",
      "Agent #7 can skip.\n",
      "Agent #6 can skip.\n",
      "Agent #5 can skip.\n",
      "Agent #0 can skip.\n",
      "Agent #18 can skip.\n",
      "(0.0, 105.0, 61.65384615384615)\n",
      "Agent #56 can skip.\n",
      "Agent #55 can skip.\n",
      "Agent #63 can skip.\n",
      "Agent #62 can skip.\n",
      "Agent #59 can skip.\n",
      "Agent #74 can skip.\n",
      "Agent #73 can skip.\n",
      "Agent #52 can skip.\n",
      "Agent #51 can skip.\n",
      "Agent #69 can skip.\n",
      "Agent #66 can skip.\n",
      "Agent #49 can skip.\n",
      "Agent #48 can skip.\n",
      "Agent #47 can skip.\n",
      "Agent #44 can skip.\n",
      "Agent #42 can skip.\n",
      "Agent #39 can skip.\n",
      "Agent #38 can skip.\n",
      "Agent #32 can skip.\n",
      "Agent #31 can skip.\n",
      "Agent #35 can skip.\n",
      "Agent #24 can skip.\n",
      "Agent #27 can skip.\n",
      "Agent #26 can skip.\n",
      "Agent #29 can skip.\n",
      "Agent #19 can skip.\n",
      "Agent #18 can skip.\n",
      "Agent #17 can skip.\n",
      "Agent #22 can skip.\n",
      "Agent #14 can skip.\n",
      "Agent #15 can skip.\n",
      "Agent #0 can skip.\n",
      "Agent #11 can skip.\n",
      "Agent #7 can skip.\n",
      "Agent #6 can skip.\n",
      "Agent #5 can skip.\n",
      "Agent #3 can skip.\n",
      "Agent #1 can skip.\n",
      "(0.0, 105.0, 64.36363636363636)\n",
      "Agent #67 can skip.\n",
      "Agent #66 can skip.\n",
      "Agent #65 can skip.\n",
      "Agent #64 can skip.\n",
      "Agent #63 can skip.\n",
      "Agent #69 can skip.\n",
      "Agent #68 can skip.\n",
      "Agent #59 can skip.\n",
      "Agent #56 can skip.\n",
      "Agent #45 can skip.\n",
      "Agent #53 can skip.\n",
      "Agent #40 can skip.\n",
      "Agent #37 can skip.\n",
      "Agent #42 can skip.\n",
      "Agent #31 can skip.\n",
      "Agent #30 can skip.\n",
      "Agent #29 can skip.\n",
      "Agent #25 can skip.\n",
      "Agent #22 can skip.\n",
      "Agent #21 can skip.\n",
      "Agent #33 can skip.\n",
      "Agent #23 can skip.\n",
      "Agent #13 can skip.\n",
      "Agent #12 can skip.\n",
      "Agent #18 can skip.\n",
      "Agent #14 can skip.\n",
      "Agent #4 can skip.\n",
      "Agent #3 can skip.\n",
      "Agent #2 can skip.\n",
      "Agent #1 can skip.\n",
      "Agent #0 can skip.\n",
      "Agent #6 can skip.\n",
      "Agent #5 can skip.\n",
      "(0.0, 105.0, 61.816901408450704)\n"
     ]
    },
    {
     "data": {
      "application/vnd.plotly.v1+json": {
       "data": [
        {
         "name": "min",
         "type": "scatter",
         "uid": "16bc8ba2-ef52-11e8-9f74-7cb0c2481b6f",
         "x": [
          0,
          1,
          2,
          3,
          4,
          5,
          6,
          7,
          8,
          9
         ],
         "y": [
          0,
          0,
          0,
          0,
          0,
          0,
          0,
          0,
          0,
          0,
          0,
          0,
          0,
          0,
          0,
          0,
          0,
          0,
          0,
          0
         ]
        },
        {
         "name": "max",
         "type": "scatter",
         "uid": "16bc8ba3-ef52-11e8-9f74-7cb0c2481b6f",
         "x": [
          0,
          1,
          2,
          3,
          4,
          5,
          6,
          7,
          8,
          9
         ],
         "y": [
          84,
          105,
          105,
          105,
          105,
          105,
          105,
          105,
          105,
          105,
          105,
          105,
          105,
          105,
          105,
          105,
          105,
          105,
          105,
          105
         ]
        },
        {
         "name": "average",
         "type": "scatter",
         "uid": "16bc8ba4-ef52-11e8-9f74-7cb0c2481b6f",
         "x": [
          0,
          1,
          2,
          3,
          4,
          5,
          6,
          7,
          8,
          9
         ],
         "y": [
          9.03,
          18.558139534883722,
          30.6144578313253,
          45.629629629629626,
          48.0375,
          49.09090909090909,
          53.962025316455694,
          57.27272727272727,
          57.13235294117647,
          58.90909090909091,
          56.189189189189186,
          55.16,
          53.328947368421055,
          55.72,
          54.54545454545455,
          58.30263157894737,
          60.41095890410959,
          61.65384615384615,
          64.36363636363636,
          61.816901408450704
         ]
        }
       ],
       "layout": {
        "legend": {
         "x": 0.2,
         "y": 0.6
        },
        "showlegend": true
       }
      },
      "text/html": [
       "<div id=\"00aff678-ae47-4e6c-bc79-0ee7d995f809\" style=\"height: 525px; width: 100%;\" class=\"plotly-graph-div\"></div><script type=\"text/javascript\">require([\"plotly\"], function(Plotly) { window.PLOTLYENV=window.PLOTLYENV || {};window.PLOTLYENV.BASE_URL=\"https://plot.ly\";Plotly.newPlot(\"00aff678-ae47-4e6c-bc79-0ee7d995f809\", [{\"name\": \"min\", \"x\": [0, 1, 2, 3, 4, 5, 6, 7, 8, 9], \"y\": [0.0, 0.0, 0.0, 0.0, 0.0, 0.0, 0.0, 0.0, 0.0, 0.0, 0.0, 0.0, 0.0, 0.0, 0.0, 0.0, 0.0, 0.0, 0.0, 0.0], \"type\": \"scatter\", \"uid\": \"16bc8ba2-ef52-11e8-9f74-7cb0c2481b6f\"}, {\"name\": \"max\", \"x\": [0, 1, 2, 3, 4, 5, 6, 7, 8, 9], \"y\": [84.0, 105.0, 105.0, 105.0, 105.0, 105.0, 105.0, 105.0, 105.0, 105.0, 105.0, 105.0, 105.0, 105.0, 105.0, 105.0, 105.0, 105.0, 105.0, 105.0], \"type\": \"scatter\", \"uid\": \"16bc8ba3-ef52-11e8-9f74-7cb0c2481b6f\"}, {\"name\": \"average\", \"x\": [0, 1, 2, 3, 4, 5, 6, 7, 8, 9], \"y\": [9.03, 18.558139534883722, 30.6144578313253, 45.629629629629626, 48.0375, 49.09090909090909, 53.962025316455694, 57.27272727272727, 57.13235294117647, 58.90909090909091, 56.189189189189186, 55.16, 53.328947368421055, 55.72, 54.54545454545455, 58.30263157894737, 60.41095890410959, 61.65384615384615, 64.36363636363636, 61.816901408450704], \"type\": \"scatter\", \"uid\": \"16bc8ba4-ef52-11e8-9f74-7cb0c2481b6f\"}], {\"legend\": {\"x\": 0.2, \"y\": 0.6}, \"showlegend\": true}, {\"showLink\": true, \"linkText\": \"Export to plot.ly\"})});</script>"
      ],
      "text/vnd.plotly.v1+html": [
       "<div id=\"00aff678-ae47-4e6c-bc79-0ee7d995f809\" style=\"height: 525px; width: 100%;\" class=\"plotly-graph-div\"></div><script type=\"text/javascript\">require([\"plotly\"], function(Plotly) { window.PLOTLYENV=window.PLOTLYENV || {};window.PLOTLYENV.BASE_URL=\"https://plot.ly\";Plotly.newPlot(\"00aff678-ae47-4e6c-bc79-0ee7d995f809\", [{\"name\": \"min\", \"x\": [0, 1, 2, 3, 4, 5, 6, 7, 8, 9], \"y\": [0.0, 0.0, 0.0, 0.0, 0.0, 0.0, 0.0, 0.0, 0.0, 0.0, 0.0, 0.0, 0.0, 0.0, 0.0, 0.0, 0.0, 0.0, 0.0, 0.0], \"type\": \"scatter\", \"uid\": \"16bc8ba2-ef52-11e8-9f74-7cb0c2481b6f\"}, {\"name\": \"max\", \"x\": [0, 1, 2, 3, 4, 5, 6, 7, 8, 9], \"y\": [84.0, 105.0, 105.0, 105.0, 105.0, 105.0, 105.0, 105.0, 105.0, 105.0, 105.0, 105.0, 105.0, 105.0, 105.0, 105.0, 105.0, 105.0, 105.0, 105.0], \"type\": \"scatter\", \"uid\": \"16bc8ba3-ef52-11e8-9f74-7cb0c2481b6f\"}, {\"name\": \"average\", \"x\": [0, 1, 2, 3, 4, 5, 6, 7, 8, 9], \"y\": [9.03, 18.558139534883722, 30.6144578313253, 45.629629629629626, 48.0375, 49.09090909090909, 53.962025316455694, 57.27272727272727, 57.13235294117647, 58.90909090909091, 56.189189189189186, 55.16, 53.328947368421055, 55.72, 54.54545454545455, 58.30263157894737, 60.41095890410959, 61.65384615384615, 64.36363636363636, 61.816901408450704], \"type\": \"scatter\", \"uid\": \"16bc8ba4-ef52-11e8-9f74-7cb0c2481b6f\"}], {\"legend\": {\"x\": 0.2, \"y\": 0.6}, \"showlegend\": true}, {\"showLink\": true, \"linkText\": \"Export to plot.ly\"})});</script>"
      ]
     },
     "metadata": {},
     "output_type": "display_data"
    }
   ],
   "source": [
    "\n",
    "\"\"\"\n",
    "test 1\n",
    "- generation , 20 loops\n",
    "\"\"\"\n",
    "generation = 20 # number of generations\n",
    "gametitle = 'Assault-v0'\n",
    "processes = 6 # how many to run concurrently (4 is best for my local desktop)\n",
    "frames = 100 #total frames each play\n",
    "tpopsize = 100 #teamPopSize\n",
    "rtpopSize = 0 #rTeamPopSize\n",
    "action=range(env.action_space.n) #action space\n",
    "rs = 0 #randseed\n",
    "curr_gap = 0.5 #gap\n",
    "tgap = 0.5 #tourneyGap\n",
    "pLearnerD = 0.7 #learner delete\n",
    "pLearnerA = 0.7 #learner add\n",
    "pMutation = 0.2 #player mutation rate\n",
    "pAIT = 0.5 #pActionIsTeam\n",
    "mts = 5\n",
    "#maxTeamSize\n",
    "mps = 96 #maxProgramSize\n",
    "ppd = 0.5 #pProgramDelete\n",
    "ppa = 0.5 #pProgramAdd\n",
    "pps = 1.0 #pProgramSwap\n",
    "ppm = 1.0 #pProgramMutate\n",
    "ppit = None #popInit\n",
    "ar = (0.0, 1.0, 0.05) #actionRange\n",
    "\n",
    "summary = gamebegin(generation,gametitle,processes,frames,action, rs, tpopsize, rtpopSize,\n",
    "            curr_gap, pLearnerD, pLearnerA, pMutation,\n",
    "            pAIT, mts, mps,\n",
    "            ppd, ppa, pps,\n",
    "            ppm, ppit, tgap,\n",
    "            ar)\n",
    "#legend\n",
    "trace1 = go.Scatter(x=[i for i in range(len(summary))],y=[i[0] for i in summary],name='min')\n",
    "trace2 = go.Scatter(x=[i for i in range(len(summary))],y=[i[1] for i in summary],name='max')\n",
    "trace3 = go.Scatter(x=[i for i in range(len(summary))],y=[i[2] for i in summary],name='average')\n",
    "data = [trace1,trace2,trace3]\n",
    "layout = go.Layout(showlegend=True,legend={'x':0.2,'y':0.6})\n",
    "fig = go.Figure(data=data,layout=layout)\n",
    "iplot(fig)"
   ]
  },
  {
   "cell_type": "code",
   "execution_count": 49,
   "metadata": {},
   "outputs": [
    {
     "name": "stdout",
     "output_type": "stream",
     "text": [
      "(0.0, 0.0, 0.0)\n",
      "(0.0, 0.0, 0.0)\n",
      "(0.0, 0.0, 0.0)\n",
      "(0.0, 0.0, 0.0)\n",
      "(0.0, 0.0, 0.0)\n",
      "(0.0, 0.0, 0.0)\n",
      "(0.0, 0.0, 0.0)\n",
      "(0.0, 0.0, 0.0)\n",
      "(0.0, 0.0, 0.0)\n",
      "(0.0, 0.0, 0.0)\n",
      "(0.0, 0.0, 0.0)\n",
      "(0.0, 0.0, 0.0)\n",
      "(0.0, 0.0, 0.0)\n",
      "(0.0, 0.0, 0.0)\n",
      "(0.0, 0.0, 0.0)\n",
      "(0.0, 0.0, 0.0)\n",
      "(0.0, 0.0, 0.0)\n",
      "(0.0, 0.0, 0.0)\n",
      "(0.0, 0.0, 0.0)\n",
      "(0.0, 0.0, 0.0)\n"
     ]
    },
    {
     "data": {
      "application/vnd.plotly.v1+json": {
       "data": [
        {
         "name": "min",
         "type": "scatter",
         "uid": "2d7d6fce-ef56-11e8-9f74-7cb0c2481b6f",
         "x": [
          0,
          1,
          2,
          3,
          4,
          5,
          6,
          7,
          8,
          9
         ],
         "y": [
          0,
          0,
          0,
          0,
          0,
          0,
          0,
          0,
          0,
          0
         ]
        },
        {
         "name": "min",
         "type": "scatter",
         "uid": "2d7d6fcf-ef56-11e8-9f74-7cb0c2481b6f",
         "x": [
          0,
          1,
          2,
          3,
          4,
          5,
          6,
          7,
          8,
          9
         ],
         "y": [
          0,
          0,
          0,
          0,
          0,
          0,
          0,
          0,
          0,
          0
         ]
        }
       ],
       "layout": {
        "legend": {
         "x": 0.2,
         "y": 0.6
        },
        "showlegend": true
       }
      },
      "text/html": [
       "<div id=\"632ab1b1-0631-41dc-bbcd-15b4fa868cc7\" style=\"height: 525px; width: 100%;\" class=\"plotly-graph-div\"></div><script type=\"text/javascript\">require([\"plotly\"], function(Plotly) { window.PLOTLYENV=window.PLOTLYENV || {};window.PLOTLYENV.BASE_URL=\"https://plot.ly\";Plotly.newPlot(\"632ab1b1-0631-41dc-bbcd-15b4fa868cc7\", [{\"name\": \"min\", \"x\": [0, 1, 2, 3, 4, 5, 6, 7, 8, 9], \"y\": [0.0, 0.0, 0.0, 0.0, 0.0, 0.0, 0.0, 0.0, 0.0, 0.0], \"type\": \"scatter\", \"uid\": \"2d7d6fce-ef56-11e8-9f74-7cb0c2481b6f\"}, {\"name\": \"min\", \"x\": [0, 1, 2, 3, 4, 5, 6, 7, 8, 9], \"y\": [0.0, 0.0, 0.0, 0.0, 0.0, 0.0, 0.0, 0.0, 0.0, 0.0], \"type\": \"scatter\", \"uid\": \"2d7d6fcf-ef56-11e8-9f74-7cb0c2481b6f\"}], {\"legend\": {\"x\": 0.2, \"y\": 0.6}, \"showlegend\": true}, {\"showLink\": true, \"linkText\": \"Export to plot.ly\"})});</script>"
      ],
      "text/vnd.plotly.v1+html": [
       "<div id=\"632ab1b1-0631-41dc-bbcd-15b4fa868cc7\" style=\"height: 525px; width: 100%;\" class=\"plotly-graph-div\"></div><script type=\"text/javascript\">require([\"plotly\"], function(Plotly) { window.PLOTLYENV=window.PLOTLYENV || {};window.PLOTLYENV.BASE_URL=\"https://plot.ly\";Plotly.newPlot(\"632ab1b1-0631-41dc-bbcd-15b4fa868cc7\", [{\"name\": \"min\", \"x\": [0, 1, 2, 3, 4, 5, 6, 7, 8, 9], \"y\": [0.0, 0.0, 0.0, 0.0, 0.0, 0.0, 0.0, 0.0, 0.0, 0.0], \"type\": \"scatter\", \"uid\": \"2d7d6fce-ef56-11e8-9f74-7cb0c2481b6f\"}, {\"name\": \"min\", \"x\": [0, 1, 2, 3, 4, 5, 6, 7, 8, 9], \"y\": [0.0, 0.0, 0.0, 0.0, 0.0, 0.0, 0.0, 0.0, 0.0, 0.0], \"type\": \"scatter\", \"uid\": \"2d7d6fcf-ef56-11e8-9f74-7cb0c2481b6f\"}], {\"legend\": {\"x\": 0.2, \"y\": 0.6}, \"showlegend\": true}, {\"showLink\": true, \"linkText\": \"Export to plot.ly\"})});</script>"
      ]
     },
     "metadata": {},
     "output_type": "display_data"
    },
    {
     "data": {
      "application/vnd.plotly.v1+json": {
       "data": [
        {
         "name": "max",
         "type": "scatter",
         "uid": "2d7d6fd0-ef56-11e8-9f74-7cb0c2481b6f",
         "x": [
          0,
          1,
          2,
          3,
          4,
          5,
          6,
          7,
          8,
          9
         ],
         "y": [
          0,
          0,
          0,
          0,
          0,
          0,
          0,
          0,
          0,
          0
         ]
        },
        {
         "name": "max",
         "type": "scatter",
         "uid": "2d7d6fd1-ef56-11e8-9f74-7cb0c2481b6f",
         "x": [
          0,
          1,
          2,
          3,
          4,
          5,
          6,
          7,
          8,
          9
         ],
         "y": [
          0,
          0,
          0,
          0,
          0,
          0,
          0,
          0,
          0,
          0
         ]
        }
       ],
       "layout": {
        "legend": {
         "x": 0.2,
         "y": 0.6
        },
        "showlegend": true
       }
      },
      "text/html": [
       "<div id=\"a50f2e2d-601f-4980-bb70-e2d48e533f0a\" style=\"height: 525px; width: 100%;\" class=\"plotly-graph-div\"></div><script type=\"text/javascript\">require([\"plotly\"], function(Plotly) { window.PLOTLYENV=window.PLOTLYENV || {};window.PLOTLYENV.BASE_URL=\"https://plot.ly\";Plotly.newPlot(\"a50f2e2d-601f-4980-bb70-e2d48e533f0a\", [{\"name\": \"max\", \"x\": [0, 1, 2, 3, 4, 5, 6, 7, 8, 9], \"y\": [0.0, 0.0, 0.0, 0.0, 0.0, 0.0, 0.0, 0.0, 0.0, 0.0], \"type\": \"scatter\", \"uid\": \"2d7d6fd0-ef56-11e8-9f74-7cb0c2481b6f\"}, {\"name\": \"max\", \"x\": [0, 1, 2, 3, 4, 5, 6, 7, 8, 9], \"y\": [0.0, 0.0, 0.0, 0.0, 0.0, 0.0, 0.0, 0.0, 0.0, 0.0], \"type\": \"scatter\", \"uid\": \"2d7d6fd1-ef56-11e8-9f74-7cb0c2481b6f\"}], {\"legend\": {\"x\": 0.2, \"y\": 0.6}, \"showlegend\": true}, {\"showLink\": true, \"linkText\": \"Export to plot.ly\"})});</script>"
      ],
      "text/vnd.plotly.v1+html": [
       "<div id=\"a50f2e2d-601f-4980-bb70-e2d48e533f0a\" style=\"height: 525px; width: 100%;\" class=\"plotly-graph-div\"></div><script type=\"text/javascript\">require([\"plotly\"], function(Plotly) { window.PLOTLYENV=window.PLOTLYENV || {};window.PLOTLYENV.BASE_URL=\"https://plot.ly\";Plotly.newPlot(\"a50f2e2d-601f-4980-bb70-e2d48e533f0a\", [{\"name\": \"max\", \"x\": [0, 1, 2, 3, 4, 5, 6, 7, 8, 9], \"y\": [0.0, 0.0, 0.0, 0.0, 0.0, 0.0, 0.0, 0.0, 0.0, 0.0], \"type\": \"scatter\", \"uid\": \"2d7d6fd0-ef56-11e8-9f74-7cb0c2481b6f\"}, {\"name\": \"max\", \"x\": [0, 1, 2, 3, 4, 5, 6, 7, 8, 9], \"y\": [0.0, 0.0, 0.0, 0.0, 0.0, 0.0, 0.0, 0.0, 0.0, 0.0], \"type\": \"scatter\", \"uid\": \"2d7d6fd1-ef56-11e8-9f74-7cb0c2481b6f\"}], {\"legend\": {\"x\": 0.2, \"y\": 0.6}, \"showlegend\": true}, {\"showLink\": true, \"linkText\": \"Export to plot.ly\"})});</script>"
      ]
     },
     "metadata": {},
     "output_type": "display_data"
    },
    {
     "data": {
      "application/vnd.plotly.v1+json": {
       "data": [
        {
         "name": "average",
         "type": "scatter",
         "uid": "2d7d6fd2-ef56-11e8-9f74-7cb0c2481b6f",
         "x": [
          0,
          1,
          2,
          3,
          4,
          5,
          6,
          7,
          8,
          9
         ],
         "y": [
          0,
          0,
          0,
          0,
          0,
          0,
          0,
          0,
          0,
          0
         ]
        },
        {
         "name": "average",
         "type": "scatter",
         "uid": "2d7d6fd3-ef56-11e8-9f74-7cb0c2481b6f",
         "x": [
          0,
          1,
          2,
          3,
          4,
          5,
          6,
          7,
          8,
          9
         ],
         "y": [
          0,
          0,
          0,
          0,
          0,
          0,
          0,
          0,
          0,
          0
         ]
        }
       ],
       "layout": {
        "legend": {
         "x": 0.2,
         "y": 0.6
        },
        "showlegend": true
       }
      },
      "text/html": [
       "<div id=\"6c377519-3b9f-40ce-aa1b-1bb173de580c\" style=\"height: 525px; width: 100%;\" class=\"plotly-graph-div\"></div><script type=\"text/javascript\">require([\"plotly\"], function(Plotly) { window.PLOTLYENV=window.PLOTLYENV || {};window.PLOTLYENV.BASE_URL=\"https://plot.ly\";Plotly.newPlot(\"6c377519-3b9f-40ce-aa1b-1bb173de580c\", [{\"name\": \"average\", \"x\": [0, 1, 2, 3, 4, 5, 6, 7, 8, 9], \"y\": [0.0, 0.0, 0.0, 0.0, 0.0, 0.0, 0.0, 0.0, 0.0, 0.0], \"type\": \"scatter\", \"uid\": \"2d7d6fd2-ef56-11e8-9f74-7cb0c2481b6f\"}, {\"name\": \"average\", \"x\": [0, 1, 2, 3, 4, 5, 6, 7, 8, 9], \"y\": [0.0, 0.0, 0.0, 0.0, 0.0, 0.0, 0.0, 0.0, 0.0, 0.0], \"type\": \"scatter\", \"uid\": \"2d7d6fd3-ef56-11e8-9f74-7cb0c2481b6f\"}], {\"legend\": {\"x\": 0.2, \"y\": 0.6}, \"showlegend\": true}, {\"showLink\": true, \"linkText\": \"Export to plot.ly\"})});</script>"
      ],
      "text/vnd.plotly.v1+html": [
       "<div id=\"6c377519-3b9f-40ce-aa1b-1bb173de580c\" style=\"height: 525px; width: 100%;\" class=\"plotly-graph-div\"></div><script type=\"text/javascript\">require([\"plotly\"], function(Plotly) { window.PLOTLYENV=window.PLOTLYENV || {};window.PLOTLYENV.BASE_URL=\"https://plot.ly\";Plotly.newPlot(\"6c377519-3b9f-40ce-aa1b-1bb173de580c\", [{\"name\": \"average\", \"x\": [0, 1, 2, 3, 4, 5, 6, 7, 8, 9], \"y\": [0.0, 0.0, 0.0, 0.0, 0.0, 0.0, 0.0, 0.0, 0.0, 0.0], \"type\": \"scatter\", \"uid\": \"2d7d6fd2-ef56-11e8-9f74-7cb0c2481b6f\"}, {\"name\": \"average\", \"x\": [0, 1, 2, 3, 4, 5, 6, 7, 8, 9], \"y\": [0.0, 0.0, 0.0, 0.0, 0.0, 0.0, 0.0, 0.0, 0.0, 0.0], \"type\": \"scatter\", \"uid\": \"2d7d6fd3-ef56-11e8-9f74-7cb0c2481b6f\"}], {\"legend\": {\"x\": 0.2, \"y\": 0.6}, \"showlegend\": true}, {\"showLink\": true, \"linkText\": \"Export to plot.ly\"})});</script>"
      ]
     },
     "metadata": {},
     "output_type": "display_data"
    }
   ],
   "source": [
    "\n",
    "\"\"\"\n",
    "test 2\n",
    "- frames, from 10 to 1000, each time add 10 frames per play\n",
    "\"\"\"\n",
    "generation = 10 # number of generations\n",
    "gametitle = 'Assault-v0'\n",
    "processes = 6 # how many to run concurrently (4 is best for my local desktop)\n",
    "frames = 10 #total frames each play\n",
    "tpopsize = 100 #teamPopSize\n",
    "rtpopSize = 0 #rTeamPopSize\n",
    "action=range(env.action_space.n) #action space\n",
    "rs = 0 #randseed\n",
    "curr_gap = 0.5 #gap\n",
    "tgap = 0.5 #tourneyGap\n",
    "pLearnerD = 0.7 #learner delete\n",
    "pLearnerA = 0.7 #learner add\n",
    "pMutation = 0.2 #player mutation rate\n",
    "pAIT = 0.5 #pActionIsTeam\n",
    "mts = 5 #maxTeamSize\n",
    "mps = 96 #maxProgramSize\n",
    "ppd = 0.5 #pProgramDelete\n",
    "ppa = 0.5 #pProgramAdd\n",
    "pps = 1.0 #pProgramSwap\n",
    "ppm = 1.0 #pProgramMutate\n",
    "ppit = None #popInit\n",
    "ar = (0.0, 1.0, 0.05) #actionRange\n",
    "\n",
    "min_plot = []\n",
    "max_plot = []\n",
    "average_plot = []\n",
    "# for loops in order to simulate data\n",
    "for i in range(0,20,10):\n",
    "    \n",
    "    summary = gamebegin(generation,gametitle,processes,frames,action, rs, tpopsize, rtpopSize,\n",
    "                curr_gap, pLearnerD, pLearnerA, pMutation,\n",
    "                pAIT, mts, mps,\n",
    "                ppd, ppa, pps,\n",
    "                ppm, ppit, tgap,\n",
    "                ar)\n",
    "    #legend\n",
    "    min_plot.append(go.Scatter(x=[i for i in range(len(summary))],y=[i[0] for i in summary],name='min'))\n",
    "    max_plot.append(go.Scatter(x=[i for i in range(len(summary))],y=[i[1] for i in summary],name='max'))\n",
    "    average_plot.append(go.Scatter(x=[i for i in range(len(summary))],y=[i[2] for i in summary],name='average'))\n",
    "    \n",
    "layout = go.Layout(showlegend=True,legend={'x':0.2,'y':0.6})\n",
    "min_fig = go.Figure(data=min_plot,layout=layout)\n",
    "max_fig = go.Figure(data=max_plot,layout=layout)\n",
    "average_fig = go.Figure(data=average_plot,layout=layout)\n",
    "iplot(min_fig)\n",
    "iplot(max_fig)\n",
    "iplot(average_fig)"
   ]
  },
  {
   "cell_type": "code",
   "execution_count": null,
   "metadata": {},
   "outputs": [],
   "source": []
  }
 ],
 "metadata": {
  "kernelspec": {
   "display_name": "Python 3",
   "language": "python",
   "name": "python3"
  },
  "language_info": {
   "codemirror_mode": {
    "name": "ipython",
    "version": 3
   },
   "file_extension": ".py",
   "mimetype": "text/x-python",
   "name": "python",
   "nbconvert_exporter": "python",
   "pygments_lexer": "ipython3",
   "version": "3.6.7"
  }
 },
 "nbformat": 4,
 "nbformat_minor": 2
}

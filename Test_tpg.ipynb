{
 "cells": [
  {
   "cell_type": "markdown",
   "metadata": {},
   "source": [
    "@copy right: Ryan Amer"
   ]
  },
  {
   "cell_type": "markdown",
   "metadata": {},
   "source": [
    "## General Setup"
   ]
  },
  {
   "cell_type": "code",
   "execution_count": 1,
   "metadata": {},
   "outputs": [
    {
     "data": {
      "text/html": [
       "<script>requirejs.config({paths: { 'plotly': ['https://cdn.plot.ly/plotly-latest.min']},});if(!window.Plotly) {{require(['plotly'],function(plotly) {window.Plotly=plotly;});}}</script>"
      ],
      "text/vnd.plotly.v1+html": [
       "<script>requirejs.config({paths: { 'plotly': ['https://cdn.plot.ly/plotly-latest.min']},});if(!window.Plotly) {{require(['plotly'],function(plotly) {window.Plotly=plotly;});}}</script>"
      ]
     },
     "metadata": {},
     "output_type": "display_data"
    }
   ],
   "source": [
    "from __future__ import division\n",
    "from IPython.display import clear_output\n",
    "# imports to run OpenAI Gym in Jupyter\n",
    "import gym\n",
    "import matplotlib.pyplot as plt\n",
    "from IPython import display\n",
    "# import to do training\n",
    "from tpg.tpg_trainer import TpgTrainer\n",
    "# import to run an agent (always needed)\n",
    "from tpg.tpg_agent import TpgAgent\n",
    "\n",
    "from plotly.offline import download_plotlyjs, init_notebook_mode, plot, iplot\n",
    "import plotly.graph_objs as go\n",
    "import numpy as np\n",
    "import math\n",
    "\n",
    "init_notebook_mode(connected=True)\n",
    "import multiprocessing as mp\n",
    "import time\n",
    "\n",
    "\n",
    "# how to render in Jupyter: \n",
    "# https://stackoverflow.com/questions/40195740/how-to-run-openai-gym-render-over-a-server\n",
    "# https://www.youtube.com/watch?v=O84KgRt6AJI\n",
    "def show_state(env, step=0, name='', info=''):\n",
    "    plt.figure()\n",
    "    plt.clf()\n",
    "    plt.imshow(env.render(mode='rgb_array'))\n",
    "    plt.title(\"%s | Step: %d %s\" % (name, step, info))\n",
    "    plt.axis('off')\n",
    "\n",
    "    display.clear_output(wait=True)\n",
    "    display.display(plt.gcf())\n",
    "    \n",
    "# transforms the state into what the tpg agent can use.\n",
    "# From 3D to 1D, taking only red data (from rgb array)\n",
    "def getState(state):\n",
    "    state2 = []\n",
    "    for x in state:\n",
    "        for y in x:\n",
    "            state2.append(y[0])\n",
    "            \n",
    "    return state2"
   ]
  },
  {
   "cell_type": "code",
   "execution_count": 2,
   "metadata": {},
   "outputs": [],
   "source": [
    "# run agent in function to work with multiprocessing\n",
    "def runAgent(agenteqsq):\n",
    "    agent = agenteqsq[0] # get agent\n",
    "    eq = agenteqsq[1] # get environment queue\n",
    "    sq = agenteqsq[2] # get score queue\n",
    "    \n",
    "    # check if agent already has score\n",
    "    if agent.taskDone():\n",
    "        sq.put((agent.getUid(), agent.getOutcomes()))\n",
    "        return\n",
    "        \n",
    "    env = eq.get() # get an environment\n",
    "    state = env.reset() # get initial state and prep environment\n",
    "    score = 0\n",
    "    for i in range(agenteqsq[3]): # run episodes that last 200 frames\n",
    "        act = agent.act(getState(state)) # get action from agent\n",
    "\n",
    "        # feedback from env\n",
    "        state, reward, isDone, debug = env.step(act)\n",
    "        score += reward # accumulate reward in score\n",
    "        if isDone:\n",
    "            break # end early if losing state\n",
    "            \n",
    "    lock.acquire() # may not actually need, mp is weird in python\n",
    "    agent.reward(score) # must reward agent\n",
    "    lock.release()\n",
    "    \n",
    "    sq.put((agent.getUid(), agent.getOutcomes())) # get outcomes with id\n",
    "    eq.put(env) # put environment back\n",
    "    \n",
    "def gamebegin(generation,gametitle,processes,frames,action, rs, tpopsize, rtpopSize,\n",
    "            curr_gap, pLearnerD, pLearnerA, pMutation,\n",
    "            pAIT, mts, mps,\n",
    "            ppd, ppa, pps,\n",
    "            ppm, ppit, tgap,\n",
    "            ar):\n",
    "\n",
    "    tStart = time.time()\n",
    "\n",
    "    trainer = TpgTrainer(actions=action, randSeed=rs, teamPopSize=tpopsize, rTeamPopSize=rtpopSize,\n",
    "                    gap=curr_gap, pLearnerDelete=pLearnerD, pLearnerAdd=pLearnerA, pMutateAction=pMutation,\n",
    "                    pActionIsTeam=pAIT, maxTeamSize=mts, maxProgramSize=mps,\n",
    "                    pProgramDelete=ppd, pProgramAdd=ppa, pProgramSwap=pps,\n",
    "                    pProgramMutate=ppm, popInit=ppit, tourneyGap=tgap,\n",
    "                    actionRange=ar)\n",
    "\n",
    "\n",
    "    m = mp.Manager()\n",
    "    envQueue = m.Queue()\n",
    "    # each process needs its own environment\n",
    "    for i in range(processes):\n",
    "        envQueue.put(gym.make(gametitle))\n",
    "\n",
    "    pool = mp.Pool(processes=processes)\n",
    "\n",
    "    summaryScores = [] # record score summaries for each gen (min, max, avg)\n",
    "\n",
    "\n",
    "    for gen in range(generation): # generation loop\n",
    "        scoreQueue = m.Queue() # hold agents when finish, to actually apply score\n",
    "\n",
    "        # run generation\n",
    "        # skipTasks=[] so we get all agents, even if already scored,\n",
    "        # just to report the obtained score for all agents.\n",
    "        pool.map(runAgent, \n",
    "                     [(agent, envQueue, scoreQueue,frames) \n",
    "                      for agent in trainer.getAllAgents(skipTasks=[])])\n",
    "\n",
    "        scores = [] # convert scores into list\n",
    "        while not scoreQueue.empty():\n",
    "            scores.append(scoreQueue.get())\n",
    "\n",
    "        # apply scores\n",
    "        trainer.applyScores(scores)\n",
    "        trainer.evolve(tasks=[]) # go into next gen\n",
    "\n",
    "        # at end of generation, make summary of scores\n",
    "        summaryScores.append((trainer.scoreStats['min'], \n",
    "                        trainer.scoreStats['max'],\n",
    "                        trainer.scoreStats['average'])) # min, max, avg\n",
    "        print(summaryScores[len(summaryScores)-1])\n",
    "    return summaryScores"
   ]
  },
  {
   "cell_type": "code",
   "execution_count": null,
   "metadata": {},
   "outputs": [],
   "source": [
    "\n",
    "\"\"\"\n",
    "test 1\n",
    "- popsize = 100\n",
    "- frames = 50\n",
    "\"\"\"\n",
    "\n",
    "\n",
    "\n",
    "lock = mp.Lock() #create a globle locker\n",
    "\n",
    "generation = 20 # number of generations\n",
    "gametitle = 'Assault-v0'\n",
    "env = gym.make(gametitle)\n",
    "\n",
    "processes = 6 # how many to run concurrently (4 is best for my local desktop)\n",
    "frames = 50 #total frames each play\n",
    "tpopsize = 50 #teamPopSize\n",
    "rtpopSize = 0 #rTeamPopSize\n",
    "action=range(env.action_space.n) #action space\n",
    "rs = 0 #randseed\n",
    "curr_gap = 0.5 #gap\n",
    "tgap = 0.5 #tourneyGap\n",
    "pLearnerD = 0.7 #learner delete\n",
    "pLearnerA = 0.7 #learner add\n",
    "pMutation = 0.2 #player mutation rate\n",
    "pAIT = 0.5 #pActionIsTeam\n",
    "mts = 5 #maxTeamSize\n",
    "mps = 96 #maxProgramSize\n",
    "ppd = 0.5 #pProgramDelete\n",
    "ppa = 0.5 #pProgramAdd\n",
    "pps = 1.0 #pProgramSwap\n",
    "ppm = 1.0 #pProgramMutate\n",
    "ppit = None #popInit\n",
    "ar = (0.0, 1.0, 0.05) #actionRange\n",
    "\n",
    "data\n",
    "    \n",
    "summary = gamebegin(generation,gametitle,processes,frames,action, rs, tpopsize, rtpopSize,\n",
    "            curr_gap, pLearnerD, pLearnerA, pMutation,\n",
    "            pAIT, mts, mps,\n",
    "            ppd, ppa, pps,\n",
    "            ppm, ppit, tgap,\n",
    "            ar)\n",
    "#legend\n",
    "data.append(go.Scatter(x=[i for i in range(len(summary))],y=[i[0] for i in summary],name='frames: '+str(10*i)))\n",
    "data.append(go.Scatter(x=[i for i in range(len(summary))],y=[i[1] for i in summary],name='frames: '+str(10*i)))\n",
    "data.append(go.Scatter(x=[i for i in range(len(summary))],y=[i[2] for i in summary],name='frames: '+str(10*i)))\n",
    "\n",
    "min_fig = go.Figure(data=data,layout=go.Layout(showlegend=True,legend={'x':0.2,'y':0.6},title='test1-popsize:50,frames:50'))\n",
    "iplot(min_fig)\n",
    "iplot(max_fig)\n",
    "iplot(average_fig)"
   ]
  },
  {
   "cell_type": "code",
   "execution_count": 5,
   "metadata": {
    "scrolled": false
   },
   "outputs": [
    {
     "name": "stdout",
     "output_type": "stream",
     "text": [
      "(0, 0, 0.0)\n",
      "(0, 0, 0.0)\n",
      "(0, 0, 0.0)\n",
      "(0, 0, 0.0)\n",
      "(0, 0, 0.0)\n",
      "(0, 0, 0.0)\n",
      "(0, 0, 0.0)\n",
      "(0, 0, 0.0)\n",
      "(0, 0, 0.0)\n",
      "(0, 0, 0.0)\n",
      "(0.0, 0.0, 0.0)\n",
      "(0.0, 0.0, 0.0)\n",
      "(0.0, 0.0, 0.0)\n",
      "(0.0, 0.0, 0.0)\n",
      "(0.0, 0.0, 0.0)\n",
      "(0.0, 0.0, 0.0)\n",
      "(0.0, 0.0, 0.0)\n",
      "(0.0, 0.0, 0.0)\n",
      "(0.0, 0.0, 0.0)\n",
      "(0.0, 0.0, 0.0)\n",
      "(0.0, 21.0, 2.1)\n",
      "(0.0, 0.0, 0.0)\n",
      "(0.0, 21.0, 2.3333333333333335)\n",
      "(0.0, 0.0, 0.0)\n",
      "(0.0, 0.0, 0.0)\n",
      "(0.0, 21.0, 2.3333333333333335)\n",
      "(0.0, 21.0, 8.4)\n",
      "(0.0, 21.0, 13.125)\n",
      "(0.0, 21.0, 17.5)\n",
      "(0.0, 21.0, 12.6)\n",
      "(0.0, 21.0, 4.2)\n",
      "(0.0, 21.0, 8.4)\n",
      "(0.0, 21.0, 9.333333333333334)\n",
      "(0.0, 21.0, 14.7)\n",
      "(21.0, 21.0, 21.0)\n",
      "(0.0, 21.0, 19.09090909090909)\n",
      "(0.0, 21.0, 18.9)\n",
      "(21.0, 21.0, 21.0)\n",
      "(21.0, 21.0, 21.0)\n",
      "(21.0, 21.0, 21.0)\n",
      "(0.0, 21.0, 2.1)\n",
      "(0.0, 21.0, 3.0)\n",
      "(0.0, 21.0, 9.0)\n",
      "(0.0, 21.0, 12.6)\n",
      "(21.0, 21.0, 21.0)\n",
      "(0.0, 21.0, 6.0)\n",
      "(0.0, 21.0, 11.666666666666666)\n",
      "(0.0, 21.0, 16.333333333333332)\n",
      "(0.0, 21.0, 10.5)\n",
      "(0.0, 21.0, 15.75)\n",
      "(0.0, 0.0, 0.0)\n",
      "(0.0, 0.0, 0.0)\n",
      "(0.0, 0.0, 0.0)\n",
      "(0.0, 0.0, 0.0)\n",
      "(0.0, 0.0, 0.0)\n",
      "(0.0, 0.0, 0.0)\n",
      "(0.0, 0.0, 0.0)\n",
      "(0.0, 21.0, 4.666666666666667)\n",
      "(0.0, 21.0, 9.0)\n",
      "(0.0, 42.0, 21.0)\n",
      "(0.0, 21.0, 2.1)\n",
      "(0.0, 21.0, 8.4)\n",
      "(0.0, 21.0, 14.0)\n",
      "(0.0, 21.0, 11.666666666666666)\n",
      "(21.0, 21.0, 21.0)\n",
      "(0.0, 21.0, 18.375)\n",
      "(0.0, 21.0, 15.75)\n",
      "(0.0, 21.0, 18.375)\n",
      "(0.0, 21.0, 15.75)\n",
      "(21.0, 21.0, 21.0)\n",
      "(0.0, 42.0, 10.5)\n",
      "(0.0, 63.0, 15.75)\n",
      "(0.0, 63.0, 18.666666666666668)\n",
      "(0.0, 63.0, 23.625)\n",
      "(0.0, 63.0, 21.0)\n",
      "(0.0, 63.0, 26.25)\n",
      "(42.0, 63.0, 48.0)\n",
      "(0.0, 63.0, 28.0)\n",
      "(0.0, 63.0, 32.666666666666664)\n",
      "(0.0, 63.0, 34.125)\n",
      "(0.0, 63.0, 10.5)\n",
      "(0.0, 42.0, 8.4)\n",
      "(0.0, 84.0, 28.875)\n",
      "(0.0, 84.0, 44.333333333333336)\n",
      "(0.0, 84.0, 46.2)\n",
      "(0.0, 84.0, 48.0)\n",
      "(42.0, 84.0, 58.333333333333336)\n",
      "(0.0, 84.0, 51.333333333333336)\n",
      "(0.0, 84.0, 42.0)\n",
      "(0.0, 84.0, 42.0)\n",
      "(0.0, 84.0, 8.4)\n",
      "(0.0, 63.0, 7.0)\n",
      "(0.0, 84.0, 18.9)\n",
      "(0.0, 63.0, 16.8)\n",
      "(0.0, 63.0, 28.875)\n",
      "(0.0, 63.0, 39.375)\n",
      "(0.0, 63.0, 47.25)\n",
      "(42.0, 84.0, 60.666666666666664)\n",
      "(21.0, 84.0, 49.875)\n",
      "(42.0, 84.0, 60.0)\n"
     ]
    },
    {
     "data": {
      "application/vnd.plotly.v1+json": {
       "data": [
        {
         "name": "frames: 0",
         "type": "scatter",
         "uid": "57ef0740-ef97-11e8-beae-7cb0c2481b6f",
         "x": [
          0,
          1,
          2,
          3,
          4,
          5,
          6,
          7,
          8,
          9
         ],
         "y": [
          0,
          0,
          0,
          0,
          0,
          0,
          0,
          0,
          0,
          0
         ]
        },
        {
         "name": "frames: 10",
         "type": "scatter",
         "uid": "57ef0741-ef97-11e8-beae-7cb0c2481b6f",
         "x": [
          0,
          1,
          2,
          3,
          4,
          5,
          6,
          7,
          8,
          9
         ],
         "y": [
          0,
          0,
          0,
          0,
          0,
          0,
          0,
          0,
          0,
          0
         ]
        },
        {
         "name": "frames: 20",
         "type": "scatter",
         "uid": "57ef0742-ef97-11e8-beae-7cb0c2481b6f",
         "x": [
          0,
          1,
          2,
          3,
          4,
          5,
          6,
          7,
          8,
          9
         ],
         "y": [
          0,
          0,
          0,
          0,
          0,
          0,
          0,
          0,
          0,
          0
         ]
        },
        {
         "name": "frames: 30",
         "type": "scatter",
         "uid": "57ef0743-ef97-11e8-beae-7cb0c2481b6f",
         "x": [
          0,
          1,
          2,
          3,
          4,
          5,
          6,
          7,
          8,
          9
         ],
         "y": [
          0,
          0,
          0,
          0,
          21,
          0,
          0,
          21,
          21,
          21
         ]
        },
        {
         "name": "frames: 40",
         "type": "scatter",
         "uid": "57ef0744-ef97-11e8-beae-7cb0c2481b6f",
         "x": [
          0,
          1,
          2,
          3,
          4,
          5,
          6,
          7,
          8,
          9
         ],
         "y": [
          0,
          0,
          0,
          0,
          21,
          0,
          0,
          0,
          0,
          0
         ]
        },
        {
         "name": "frames: 50",
         "type": "scatter",
         "uid": "57ef0745-ef97-11e8-beae-7cb0c2481b6f",
         "x": [
          0,
          1,
          2,
          3,
          4,
          5,
          6,
          7,
          8,
          9
         ],
         "y": [
          0,
          0,
          0,
          0,
          0,
          0,
          0,
          0,
          0,
          0
         ]
        },
        {
         "name": "frames: 60",
         "type": "scatter",
         "uid": "57ef0746-ef97-11e8-beae-7cb0c2481b6f",
         "x": [
          0,
          1,
          2,
          3,
          4,
          5,
          6,
          7,
          8,
          9
         ],
         "y": [
          0,
          0,
          0,
          0,
          21,
          0,
          0,
          0,
          0,
          21
         ]
        },
        {
         "name": "frames: 70",
         "type": "scatter",
         "uid": "57ef0747-ef97-11e8-beae-7cb0c2481b6f",
         "x": [
          0,
          1,
          2,
          3,
          4,
          5,
          6,
          7,
          8,
          9
         ],
         "y": [
          0,
          0,
          0,
          0,
          0,
          0,
          42,
          0,
          0,
          0
         ]
        },
        {
         "name": "frames: 80",
         "type": "scatter",
         "uid": "57ef0748-ef97-11e8-beae-7cb0c2481b6f",
         "x": [
          0,
          1,
          2,
          3,
          4,
          5,
          6,
          7,
          8,
          9
         ],
         "y": [
          0,
          0,
          0,
          0,
          0,
          0,
          42,
          0,
          0,
          0
         ]
        },
        {
         "name": "frames: 90",
         "type": "scatter",
         "uid": "57ef0749-ef97-11e8-beae-7cb0c2481b6f",
         "x": [
          0,
          1,
          2,
          3,
          4,
          5,
          6,
          7,
          8,
          9
         ],
         "y": [
          0,
          0,
          0,
          0,
          0,
          0,
          0,
          42,
          21,
          42
         ]
        }
       ],
       "layout": {
        "legend": {
         "x": 0.2,
         "y": 0.6
        },
        "showlegend": true,
        "title": "Minimum"
       }
      },
      "text/html": [
       "<div id=\"5b86abd5-1262-41fa-9919-383602a526c0\" style=\"height: 525px; width: 100%;\" class=\"plotly-graph-div\"></div><script type=\"text/javascript\">require([\"plotly\"], function(Plotly) { window.PLOTLYENV=window.PLOTLYENV || {};window.PLOTLYENV.BASE_URL=\"https://plot.ly\";Plotly.newPlot(\"5b86abd5-1262-41fa-9919-383602a526c0\", [{\"name\": \"frames: 0\", \"x\": [0, 1, 2, 3, 4, 5, 6, 7, 8, 9], \"y\": [0, 0, 0, 0, 0, 0, 0, 0, 0, 0], \"type\": \"scatter\", \"uid\": \"57ef0740-ef97-11e8-beae-7cb0c2481b6f\"}, {\"name\": \"frames: 10\", \"x\": [0, 1, 2, 3, 4, 5, 6, 7, 8, 9], \"y\": [0.0, 0.0, 0.0, 0.0, 0.0, 0.0, 0.0, 0.0, 0.0, 0.0], \"type\": \"scatter\", \"uid\": \"57ef0741-ef97-11e8-beae-7cb0c2481b6f\"}, {\"name\": \"frames: 20\", \"x\": [0, 1, 2, 3, 4, 5, 6, 7, 8, 9], \"y\": [0.0, 0.0, 0.0, 0.0, 0.0, 0.0, 0.0, 0.0, 0.0, 0.0], \"type\": \"scatter\", \"uid\": \"57ef0742-ef97-11e8-beae-7cb0c2481b6f\"}, {\"name\": \"frames: 30\", \"x\": [0, 1, 2, 3, 4, 5, 6, 7, 8, 9], \"y\": [0.0, 0.0, 0.0, 0.0, 21.0, 0.0, 0.0, 21.0, 21.0, 21.0], \"type\": \"scatter\", \"uid\": \"57ef0743-ef97-11e8-beae-7cb0c2481b6f\"}, {\"name\": \"frames: 40\", \"x\": [0, 1, 2, 3, 4, 5, 6, 7, 8, 9], \"y\": [0.0, 0.0, 0.0, 0.0, 21.0, 0.0, 0.0, 0.0, 0.0, 0.0], \"type\": \"scatter\", \"uid\": \"57ef0744-ef97-11e8-beae-7cb0c2481b6f\"}, {\"name\": \"frames: 50\", \"x\": [0, 1, 2, 3, 4, 5, 6, 7, 8, 9], \"y\": [0.0, 0.0, 0.0, 0.0, 0.0, 0.0, 0.0, 0.0, 0.0, 0.0], \"type\": \"scatter\", \"uid\": \"57ef0745-ef97-11e8-beae-7cb0c2481b6f\"}, {\"name\": \"frames: 60\", \"x\": [0, 1, 2, 3, 4, 5, 6, 7, 8, 9], \"y\": [0.0, 0.0, 0.0, 0.0, 21.0, 0.0, 0.0, 0.0, 0.0, 21.0], \"type\": \"scatter\", \"uid\": \"57ef0746-ef97-11e8-beae-7cb0c2481b6f\"}, {\"name\": \"frames: 70\", \"x\": [0, 1, 2, 3, 4, 5, 6, 7, 8, 9], \"y\": [0.0, 0.0, 0.0, 0.0, 0.0, 0.0, 42.0, 0.0, 0.0, 0.0], \"type\": \"scatter\", \"uid\": \"57ef0747-ef97-11e8-beae-7cb0c2481b6f\"}, {\"name\": \"frames: 80\", \"x\": [0, 1, 2, 3, 4, 5, 6, 7, 8, 9], \"y\": [0.0, 0.0, 0.0, 0.0, 0.0, 0.0, 42.0, 0.0, 0.0, 0.0], \"type\": \"scatter\", \"uid\": \"57ef0748-ef97-11e8-beae-7cb0c2481b6f\"}, {\"name\": \"frames: 90\", \"x\": [0, 1, 2, 3, 4, 5, 6, 7, 8, 9], \"y\": [0.0, 0.0, 0.0, 0.0, 0.0, 0.0, 0.0, 42.0, 21.0, 42.0], \"type\": \"scatter\", \"uid\": \"57ef0749-ef97-11e8-beae-7cb0c2481b6f\"}], {\"legend\": {\"x\": 0.2, \"y\": 0.6}, \"showlegend\": true, \"title\": \"Minimum\"}, {\"showLink\": true, \"linkText\": \"Export to plot.ly\"})});</script>"
      ],
      "text/vnd.plotly.v1+html": [
       "<div id=\"5b86abd5-1262-41fa-9919-383602a526c0\" style=\"height: 525px; width: 100%;\" class=\"plotly-graph-div\"></div><script type=\"text/javascript\">require([\"plotly\"], function(Plotly) { window.PLOTLYENV=window.PLOTLYENV || {};window.PLOTLYENV.BASE_URL=\"https://plot.ly\";Plotly.newPlot(\"5b86abd5-1262-41fa-9919-383602a526c0\", [{\"name\": \"frames: 0\", \"x\": [0, 1, 2, 3, 4, 5, 6, 7, 8, 9], \"y\": [0, 0, 0, 0, 0, 0, 0, 0, 0, 0], \"type\": \"scatter\", \"uid\": \"57ef0740-ef97-11e8-beae-7cb0c2481b6f\"}, {\"name\": \"frames: 10\", \"x\": [0, 1, 2, 3, 4, 5, 6, 7, 8, 9], \"y\": [0.0, 0.0, 0.0, 0.0, 0.0, 0.0, 0.0, 0.0, 0.0, 0.0], \"type\": \"scatter\", \"uid\": \"57ef0741-ef97-11e8-beae-7cb0c2481b6f\"}, {\"name\": \"frames: 20\", \"x\": [0, 1, 2, 3, 4, 5, 6, 7, 8, 9], \"y\": [0.0, 0.0, 0.0, 0.0, 0.0, 0.0, 0.0, 0.0, 0.0, 0.0], \"type\": \"scatter\", \"uid\": \"57ef0742-ef97-11e8-beae-7cb0c2481b6f\"}, {\"name\": \"frames: 30\", \"x\": [0, 1, 2, 3, 4, 5, 6, 7, 8, 9], \"y\": [0.0, 0.0, 0.0, 0.0, 21.0, 0.0, 0.0, 21.0, 21.0, 21.0], \"type\": \"scatter\", \"uid\": \"57ef0743-ef97-11e8-beae-7cb0c2481b6f\"}, {\"name\": \"frames: 40\", \"x\": [0, 1, 2, 3, 4, 5, 6, 7, 8, 9], \"y\": [0.0, 0.0, 0.0, 0.0, 21.0, 0.0, 0.0, 0.0, 0.0, 0.0], \"type\": \"scatter\", \"uid\": \"57ef0744-ef97-11e8-beae-7cb0c2481b6f\"}, {\"name\": \"frames: 50\", \"x\": [0, 1, 2, 3, 4, 5, 6, 7, 8, 9], \"y\": [0.0, 0.0, 0.0, 0.0, 0.0, 0.0, 0.0, 0.0, 0.0, 0.0], \"type\": \"scatter\", \"uid\": \"57ef0745-ef97-11e8-beae-7cb0c2481b6f\"}, {\"name\": \"frames: 60\", \"x\": [0, 1, 2, 3, 4, 5, 6, 7, 8, 9], \"y\": [0.0, 0.0, 0.0, 0.0, 21.0, 0.0, 0.0, 0.0, 0.0, 21.0], \"type\": \"scatter\", \"uid\": \"57ef0746-ef97-11e8-beae-7cb0c2481b6f\"}, {\"name\": \"frames: 70\", \"x\": [0, 1, 2, 3, 4, 5, 6, 7, 8, 9], \"y\": [0.0, 0.0, 0.0, 0.0, 0.0, 0.0, 42.0, 0.0, 0.0, 0.0], \"type\": \"scatter\", \"uid\": \"57ef0747-ef97-11e8-beae-7cb0c2481b6f\"}, {\"name\": \"frames: 80\", \"x\": [0, 1, 2, 3, 4, 5, 6, 7, 8, 9], \"y\": [0.0, 0.0, 0.0, 0.0, 0.0, 0.0, 42.0, 0.0, 0.0, 0.0], \"type\": \"scatter\", \"uid\": \"57ef0748-ef97-11e8-beae-7cb0c2481b6f\"}, {\"name\": \"frames: 90\", \"x\": [0, 1, 2, 3, 4, 5, 6, 7, 8, 9], \"y\": [0.0, 0.0, 0.0, 0.0, 0.0, 0.0, 0.0, 42.0, 21.0, 42.0], \"type\": \"scatter\", \"uid\": \"57ef0749-ef97-11e8-beae-7cb0c2481b6f\"}], {\"legend\": {\"x\": 0.2, \"y\": 0.6}, \"showlegend\": true, \"title\": \"Minimum\"}, {\"showLink\": true, \"linkText\": \"Export to plot.ly\"})});</script>"
      ]
     },
     "metadata": {},
     "output_type": "display_data"
    },
    {
     "data": {
      "application/vnd.plotly.v1+json": {
       "data": [
        {
         "name": "frames: 0",
         "type": "scatter",
         "uid": "57ef074a-ef97-11e8-beae-7cb0c2481b6f",
         "x": [
          0,
          1,
          2,
          3,
          4,
          5,
          6,
          7,
          8,
          9
         ],
         "y": [
          0,
          0,
          0,
          0,
          0,
          0,
          0,
          0,
          0,
          0
         ]
        },
        {
         "name": "frames: 10",
         "type": "scatter",
         "uid": "57ef074b-ef97-11e8-beae-7cb0c2481b6f",
         "x": [
          0,
          1,
          2,
          3,
          4,
          5,
          6,
          7,
          8,
          9
         ],
         "y": [
          0,
          0,
          0,
          0,
          0,
          0,
          0,
          0,
          0,
          0
         ]
        },
        {
         "name": "frames: 20",
         "type": "scatter",
         "uid": "57ef074c-ef97-11e8-beae-7cb0c2481b6f",
         "x": [
          0,
          1,
          2,
          3,
          4,
          5,
          6,
          7,
          8,
          9
         ],
         "y": [
          21,
          0,
          21,
          0,
          0,
          21,
          21,
          21,
          21,
          21
         ]
        },
        {
         "name": "frames: 30",
         "type": "scatter",
         "uid": "57ef074d-ef97-11e8-beae-7cb0c2481b6f",
         "x": [
          0,
          1,
          2,
          3,
          4,
          5,
          6,
          7,
          8,
          9
         ],
         "y": [
          21,
          21,
          21,
          21,
          21,
          21,
          21,
          21,
          21,
          21
         ]
        },
        {
         "name": "frames: 40",
         "type": "scatter",
         "uid": "57ef074e-ef97-11e8-beae-7cb0c2481b6f",
         "x": [
          0,
          1,
          2,
          3,
          4,
          5,
          6,
          7,
          8,
          9
         ],
         "y": [
          21,
          21,
          21,
          21,
          21,
          21,
          21,
          21,
          21,
          21
         ]
        },
        {
         "name": "frames: 50",
         "type": "scatter",
         "uid": "57ef074f-ef97-11e8-beae-7cb0c2481b6f",
         "x": [
          0,
          1,
          2,
          3,
          4,
          5,
          6,
          7,
          8,
          9
         ],
         "y": [
          0,
          0,
          0,
          0,
          0,
          0,
          0,
          21,
          21,
          42
         ]
        },
        {
         "name": "frames: 60",
         "type": "scatter",
         "uid": "57ef0750-ef97-11e8-beae-7cb0c2481b6f",
         "x": [
          0,
          1,
          2,
          3,
          4,
          5,
          6,
          7,
          8,
          9
         ],
         "y": [
          21,
          21,
          21,
          21,
          21,
          21,
          21,
          21,
          21,
          21
         ]
        },
        {
         "name": "frames: 70",
         "type": "scatter",
         "uid": "57ef0751-ef97-11e8-beae-7cb0c2481b6f",
         "x": [
          0,
          1,
          2,
          3,
          4,
          5,
          6,
          7,
          8,
          9
         ],
         "y": [
          42,
          63,
          63,
          63,
          63,
          63,
          63,
          63,
          63,
          63
         ]
        },
        {
         "name": "frames: 80",
         "type": "scatter",
         "uid": "57ef0752-ef97-11e8-beae-7cb0c2481b6f",
         "x": [
          0,
          1,
          2,
          3,
          4,
          5,
          6,
          7,
          8,
          9
         ],
         "y": [
          63,
          42,
          84,
          84,
          84,
          84,
          84,
          84,
          84,
          84
         ]
        },
        {
         "name": "frames: 90",
         "type": "scatter",
         "uid": "57ef0753-ef97-11e8-beae-7cb0c2481b6f",
         "x": [
          0,
          1,
          2,
          3,
          4,
          5,
          6,
          7,
          8,
          9
         ],
         "y": [
          84,
          63,
          84,
          63,
          63,
          63,
          63,
          84,
          84,
          84
         ]
        }
       ],
       "layout": {
        "legend": {
         "x": 0.2,
         "y": 0.6
        },
        "showlegend": true,
        "title": "Maximum"
       }
      },
      "text/html": [
       "<div id=\"5d91edab-d7b7-4dda-8163-8bf2ee142617\" style=\"height: 525px; width: 100%;\" class=\"plotly-graph-div\"></div><script type=\"text/javascript\">require([\"plotly\"], function(Plotly) { window.PLOTLYENV=window.PLOTLYENV || {};window.PLOTLYENV.BASE_URL=\"https://plot.ly\";Plotly.newPlot(\"5d91edab-d7b7-4dda-8163-8bf2ee142617\", [{\"name\": \"frames: 0\", \"x\": [0, 1, 2, 3, 4, 5, 6, 7, 8, 9], \"y\": [0, 0, 0, 0, 0, 0, 0, 0, 0, 0], \"type\": \"scatter\", \"uid\": \"57ef074a-ef97-11e8-beae-7cb0c2481b6f\"}, {\"name\": \"frames: 10\", \"x\": [0, 1, 2, 3, 4, 5, 6, 7, 8, 9], \"y\": [0.0, 0.0, 0.0, 0.0, 0.0, 0.0, 0.0, 0.0, 0.0, 0.0], \"type\": \"scatter\", \"uid\": \"57ef074b-ef97-11e8-beae-7cb0c2481b6f\"}, {\"name\": \"frames: 20\", \"x\": [0, 1, 2, 3, 4, 5, 6, 7, 8, 9], \"y\": [21.0, 0.0, 21.0, 0.0, 0.0, 21.0, 21.0, 21.0, 21.0, 21.0], \"type\": \"scatter\", \"uid\": \"57ef074c-ef97-11e8-beae-7cb0c2481b6f\"}, {\"name\": \"frames: 30\", \"x\": [0, 1, 2, 3, 4, 5, 6, 7, 8, 9], \"y\": [21.0, 21.0, 21.0, 21.0, 21.0, 21.0, 21.0, 21.0, 21.0, 21.0], \"type\": \"scatter\", \"uid\": \"57ef074d-ef97-11e8-beae-7cb0c2481b6f\"}, {\"name\": \"frames: 40\", \"x\": [0, 1, 2, 3, 4, 5, 6, 7, 8, 9], \"y\": [21.0, 21.0, 21.0, 21.0, 21.0, 21.0, 21.0, 21.0, 21.0, 21.0], \"type\": \"scatter\", \"uid\": \"57ef074e-ef97-11e8-beae-7cb0c2481b6f\"}, {\"name\": \"frames: 50\", \"x\": [0, 1, 2, 3, 4, 5, 6, 7, 8, 9], \"y\": [0.0, 0.0, 0.0, 0.0, 0.0, 0.0, 0.0, 21.0, 21.0, 42.0], \"type\": \"scatter\", \"uid\": \"57ef074f-ef97-11e8-beae-7cb0c2481b6f\"}, {\"name\": \"frames: 60\", \"x\": [0, 1, 2, 3, 4, 5, 6, 7, 8, 9], \"y\": [21.0, 21.0, 21.0, 21.0, 21.0, 21.0, 21.0, 21.0, 21.0, 21.0], \"type\": \"scatter\", \"uid\": \"57ef0750-ef97-11e8-beae-7cb0c2481b6f\"}, {\"name\": \"frames: 70\", \"x\": [0, 1, 2, 3, 4, 5, 6, 7, 8, 9], \"y\": [42.0, 63.0, 63.0, 63.0, 63.0, 63.0, 63.0, 63.0, 63.0, 63.0], \"type\": \"scatter\", \"uid\": \"57ef0751-ef97-11e8-beae-7cb0c2481b6f\"}, {\"name\": \"frames: 80\", \"x\": [0, 1, 2, 3, 4, 5, 6, 7, 8, 9], \"y\": [63.0, 42.0, 84.0, 84.0, 84.0, 84.0, 84.0, 84.0, 84.0, 84.0], \"type\": \"scatter\", \"uid\": \"57ef0752-ef97-11e8-beae-7cb0c2481b6f\"}, {\"name\": \"frames: 90\", \"x\": [0, 1, 2, 3, 4, 5, 6, 7, 8, 9], \"y\": [84.0, 63.0, 84.0, 63.0, 63.0, 63.0, 63.0, 84.0, 84.0, 84.0], \"type\": \"scatter\", \"uid\": \"57ef0753-ef97-11e8-beae-7cb0c2481b6f\"}], {\"legend\": {\"x\": 0.2, \"y\": 0.6}, \"showlegend\": true, \"title\": \"Maximum\"}, {\"showLink\": true, \"linkText\": \"Export to plot.ly\"})});</script>"
      ],
      "text/vnd.plotly.v1+html": [
       "<div id=\"5d91edab-d7b7-4dda-8163-8bf2ee142617\" style=\"height: 525px; width: 100%;\" class=\"plotly-graph-div\"></div><script type=\"text/javascript\">require([\"plotly\"], function(Plotly) { window.PLOTLYENV=window.PLOTLYENV || {};window.PLOTLYENV.BASE_URL=\"https://plot.ly\";Plotly.newPlot(\"5d91edab-d7b7-4dda-8163-8bf2ee142617\", [{\"name\": \"frames: 0\", \"x\": [0, 1, 2, 3, 4, 5, 6, 7, 8, 9], \"y\": [0, 0, 0, 0, 0, 0, 0, 0, 0, 0], \"type\": \"scatter\", \"uid\": \"57ef074a-ef97-11e8-beae-7cb0c2481b6f\"}, {\"name\": \"frames: 10\", \"x\": [0, 1, 2, 3, 4, 5, 6, 7, 8, 9], \"y\": [0.0, 0.0, 0.0, 0.0, 0.0, 0.0, 0.0, 0.0, 0.0, 0.0], \"type\": \"scatter\", \"uid\": \"57ef074b-ef97-11e8-beae-7cb0c2481b6f\"}, {\"name\": \"frames: 20\", \"x\": [0, 1, 2, 3, 4, 5, 6, 7, 8, 9], \"y\": [21.0, 0.0, 21.0, 0.0, 0.0, 21.0, 21.0, 21.0, 21.0, 21.0], \"type\": \"scatter\", \"uid\": \"57ef074c-ef97-11e8-beae-7cb0c2481b6f\"}, {\"name\": \"frames: 30\", \"x\": [0, 1, 2, 3, 4, 5, 6, 7, 8, 9], \"y\": [21.0, 21.0, 21.0, 21.0, 21.0, 21.0, 21.0, 21.0, 21.0, 21.0], \"type\": \"scatter\", \"uid\": \"57ef074d-ef97-11e8-beae-7cb0c2481b6f\"}, {\"name\": \"frames: 40\", \"x\": [0, 1, 2, 3, 4, 5, 6, 7, 8, 9], \"y\": [21.0, 21.0, 21.0, 21.0, 21.0, 21.0, 21.0, 21.0, 21.0, 21.0], \"type\": \"scatter\", \"uid\": \"57ef074e-ef97-11e8-beae-7cb0c2481b6f\"}, {\"name\": \"frames: 50\", \"x\": [0, 1, 2, 3, 4, 5, 6, 7, 8, 9], \"y\": [0.0, 0.0, 0.0, 0.0, 0.0, 0.0, 0.0, 21.0, 21.0, 42.0], \"type\": \"scatter\", \"uid\": \"57ef074f-ef97-11e8-beae-7cb0c2481b6f\"}, {\"name\": \"frames: 60\", \"x\": [0, 1, 2, 3, 4, 5, 6, 7, 8, 9], \"y\": [21.0, 21.0, 21.0, 21.0, 21.0, 21.0, 21.0, 21.0, 21.0, 21.0], \"type\": \"scatter\", \"uid\": \"57ef0750-ef97-11e8-beae-7cb0c2481b6f\"}, {\"name\": \"frames: 70\", \"x\": [0, 1, 2, 3, 4, 5, 6, 7, 8, 9], \"y\": [42.0, 63.0, 63.0, 63.0, 63.0, 63.0, 63.0, 63.0, 63.0, 63.0], \"type\": \"scatter\", \"uid\": \"57ef0751-ef97-11e8-beae-7cb0c2481b6f\"}, {\"name\": \"frames: 80\", \"x\": [0, 1, 2, 3, 4, 5, 6, 7, 8, 9], \"y\": [63.0, 42.0, 84.0, 84.0, 84.0, 84.0, 84.0, 84.0, 84.0, 84.0], \"type\": \"scatter\", \"uid\": \"57ef0752-ef97-11e8-beae-7cb0c2481b6f\"}, {\"name\": \"frames: 90\", \"x\": [0, 1, 2, 3, 4, 5, 6, 7, 8, 9], \"y\": [84.0, 63.0, 84.0, 63.0, 63.0, 63.0, 63.0, 84.0, 84.0, 84.0], \"type\": \"scatter\", \"uid\": \"57ef0753-ef97-11e8-beae-7cb0c2481b6f\"}], {\"legend\": {\"x\": 0.2, \"y\": 0.6}, \"showlegend\": true, \"title\": \"Maximum\"}, {\"showLink\": true, \"linkText\": \"Export to plot.ly\"})});</script>"
      ]
     },
     "metadata": {},
     "output_type": "display_data"
    },
    {
     "data": {
      "application/vnd.plotly.v1+json": {
       "data": [
        {
         "name": "frames: 0",
         "type": "scatter",
         "uid": "57ef0754-ef97-11e8-beae-7cb0c2481b6f",
         "x": [
          0,
          1,
          2,
          3,
          4,
          5,
          6,
          7,
          8,
          9
         ],
         "y": [
          0,
          0,
          0,
          0,
          0,
          0,
          0,
          0,
          0,
          0
         ]
        },
        {
         "name": "frames: 10",
         "type": "scatter",
         "uid": "57ef0755-ef97-11e8-beae-7cb0c2481b6f",
         "x": [
          0,
          1,
          2,
          3,
          4,
          5,
          6,
          7,
          8,
          9
         ],
         "y": [
          0,
          0,
          0,
          0,
          0,
          0,
          0,
          0,
          0,
          0
         ]
        },
        {
         "name": "frames: 20",
         "type": "scatter",
         "uid": "57ef0756-ef97-11e8-beae-7cb0c2481b6f",
         "x": [
          0,
          1,
          2,
          3,
          4,
          5,
          6,
          7,
          8,
          9
         ],
         "y": [
          2.1,
          0,
          2.3333333333333335,
          0,
          0,
          2.3333333333333335,
          8.4,
          13.125,
          17.5,
          12.6
         ]
        },
        {
         "name": "frames: 30",
         "type": "scatter",
         "uid": "57ef0757-ef97-11e8-beae-7cb0c2481b6f",
         "x": [
          0,
          1,
          2,
          3,
          4,
          5,
          6,
          7,
          8,
          9
         ],
         "y": [
          4.2,
          8.4,
          9.333333333333334,
          14.7,
          21,
          19.09090909090909,
          18.9,
          21,
          21,
          21
         ]
        },
        {
         "name": "frames: 40",
         "type": "scatter",
         "uid": "57ef0758-ef97-11e8-beae-7cb0c2481b6f",
         "x": [
          0,
          1,
          2,
          3,
          4,
          5,
          6,
          7,
          8,
          9
         ],
         "y": [
          2.1,
          3,
          9,
          12.6,
          21,
          6,
          11.666666666666666,
          16.333333333333332,
          10.5,
          15.75
         ]
        },
        {
         "name": "frames: 50",
         "type": "scatter",
         "uid": "57ef0759-ef97-11e8-beae-7cb0c2481b6f",
         "x": [
          0,
          1,
          2,
          3,
          4,
          5,
          6,
          7,
          8,
          9
         ],
         "y": [
          0,
          0,
          0,
          0,
          0,
          0,
          0,
          4.666666666666667,
          9,
          21
         ]
        },
        {
         "name": "frames: 60",
         "type": "scatter",
         "uid": "57ef075a-ef97-11e8-beae-7cb0c2481b6f",
         "x": [
          0,
          1,
          2,
          3,
          4,
          5,
          6,
          7,
          8,
          9
         ],
         "y": [
          2.1,
          8.4,
          14,
          11.666666666666666,
          21,
          18.375,
          15.75,
          18.375,
          15.75,
          21
         ]
        },
        {
         "name": "frames: 70",
         "type": "scatter",
         "uid": "57ef075b-ef97-11e8-beae-7cb0c2481b6f",
         "x": [
          0,
          1,
          2,
          3,
          4,
          5,
          6,
          7,
          8,
          9
         ],
         "y": [
          10.5,
          15.75,
          18.666666666666668,
          23.625,
          21,
          26.25,
          48,
          28,
          32.666666666666664,
          34.125
         ]
        },
        {
         "name": "frames: 80",
         "type": "scatter",
         "uid": "57ef075c-ef97-11e8-beae-7cb0c2481b6f",
         "x": [
          0,
          1,
          2,
          3,
          4,
          5,
          6,
          7,
          8,
          9
         ],
         "y": [
          10.5,
          8.4,
          28.875,
          44.333333333333336,
          46.2,
          48,
          58.333333333333336,
          51.333333333333336,
          42,
          42
         ]
        },
        {
         "name": "frames: 90",
         "type": "scatter",
         "uid": "57ef075d-ef97-11e8-beae-7cb0c2481b6f",
         "x": [
          0,
          1,
          2,
          3,
          4,
          5,
          6,
          7,
          8,
          9
         ],
         "y": [
          8.4,
          7,
          18.9,
          16.8,
          28.875,
          39.375,
          47.25,
          60.666666666666664,
          49.875,
          60
         ]
        }
       ],
       "layout": {
        "legend": {
         "x": 0.2,
         "y": 0.6
        },
        "showlegend": true,
        "title": "Average"
       }
      },
      "text/html": [
       "<div id=\"da25ffa6-0936-478d-8327-cfc26be772f1\" style=\"height: 525px; width: 100%;\" class=\"plotly-graph-div\"></div><script type=\"text/javascript\">require([\"plotly\"], function(Plotly) { window.PLOTLYENV=window.PLOTLYENV || {};window.PLOTLYENV.BASE_URL=\"https://plot.ly\";Plotly.newPlot(\"da25ffa6-0936-478d-8327-cfc26be772f1\", [{\"name\": \"frames: 0\", \"x\": [0, 1, 2, 3, 4, 5, 6, 7, 8, 9], \"y\": [0.0, 0.0, 0.0, 0.0, 0.0, 0.0, 0.0, 0.0, 0.0, 0.0], \"type\": \"scatter\", \"uid\": \"57ef0754-ef97-11e8-beae-7cb0c2481b6f\"}, {\"name\": \"frames: 10\", \"x\": [0, 1, 2, 3, 4, 5, 6, 7, 8, 9], \"y\": [0.0, 0.0, 0.0, 0.0, 0.0, 0.0, 0.0, 0.0, 0.0, 0.0], \"type\": \"scatter\", \"uid\": \"57ef0755-ef97-11e8-beae-7cb0c2481b6f\"}, {\"name\": \"frames: 20\", \"x\": [0, 1, 2, 3, 4, 5, 6, 7, 8, 9], \"y\": [2.1, 0.0, 2.3333333333333335, 0.0, 0.0, 2.3333333333333335, 8.4, 13.125, 17.5, 12.6], \"type\": \"scatter\", \"uid\": \"57ef0756-ef97-11e8-beae-7cb0c2481b6f\"}, {\"name\": \"frames: 30\", \"x\": [0, 1, 2, 3, 4, 5, 6, 7, 8, 9], \"y\": [4.2, 8.4, 9.333333333333334, 14.7, 21.0, 19.09090909090909, 18.9, 21.0, 21.0, 21.0], \"type\": \"scatter\", \"uid\": \"57ef0757-ef97-11e8-beae-7cb0c2481b6f\"}, {\"name\": \"frames: 40\", \"x\": [0, 1, 2, 3, 4, 5, 6, 7, 8, 9], \"y\": [2.1, 3.0, 9.0, 12.6, 21.0, 6.0, 11.666666666666666, 16.333333333333332, 10.5, 15.75], \"type\": \"scatter\", \"uid\": \"57ef0758-ef97-11e8-beae-7cb0c2481b6f\"}, {\"name\": \"frames: 50\", \"x\": [0, 1, 2, 3, 4, 5, 6, 7, 8, 9], \"y\": [0.0, 0.0, 0.0, 0.0, 0.0, 0.0, 0.0, 4.666666666666667, 9.0, 21.0], \"type\": \"scatter\", \"uid\": \"57ef0759-ef97-11e8-beae-7cb0c2481b6f\"}, {\"name\": \"frames: 60\", \"x\": [0, 1, 2, 3, 4, 5, 6, 7, 8, 9], \"y\": [2.1, 8.4, 14.0, 11.666666666666666, 21.0, 18.375, 15.75, 18.375, 15.75, 21.0], \"type\": \"scatter\", \"uid\": \"57ef075a-ef97-11e8-beae-7cb0c2481b6f\"}, {\"name\": \"frames: 70\", \"x\": [0, 1, 2, 3, 4, 5, 6, 7, 8, 9], \"y\": [10.5, 15.75, 18.666666666666668, 23.625, 21.0, 26.25, 48.0, 28.0, 32.666666666666664, 34.125], \"type\": \"scatter\", \"uid\": \"57ef075b-ef97-11e8-beae-7cb0c2481b6f\"}, {\"name\": \"frames: 80\", \"x\": [0, 1, 2, 3, 4, 5, 6, 7, 8, 9], \"y\": [10.5, 8.4, 28.875, 44.333333333333336, 46.2, 48.0, 58.333333333333336, 51.333333333333336, 42.0, 42.0], \"type\": \"scatter\", \"uid\": \"57ef075c-ef97-11e8-beae-7cb0c2481b6f\"}, {\"name\": \"frames: 90\", \"x\": [0, 1, 2, 3, 4, 5, 6, 7, 8, 9], \"y\": [8.4, 7.0, 18.9, 16.8, 28.875, 39.375, 47.25, 60.666666666666664, 49.875, 60.0], \"type\": \"scatter\", \"uid\": \"57ef075d-ef97-11e8-beae-7cb0c2481b6f\"}], {\"legend\": {\"x\": 0.2, \"y\": 0.6}, \"showlegend\": true, \"title\": \"Average\"}, {\"showLink\": true, \"linkText\": \"Export to plot.ly\"})});</script>"
      ],
      "text/vnd.plotly.v1+html": [
       "<div id=\"da25ffa6-0936-478d-8327-cfc26be772f1\" style=\"height: 525px; width: 100%;\" class=\"plotly-graph-div\"></div><script type=\"text/javascript\">require([\"plotly\"], function(Plotly) { window.PLOTLYENV=window.PLOTLYENV || {};window.PLOTLYENV.BASE_URL=\"https://plot.ly\";Plotly.newPlot(\"da25ffa6-0936-478d-8327-cfc26be772f1\", [{\"name\": \"frames: 0\", \"x\": [0, 1, 2, 3, 4, 5, 6, 7, 8, 9], \"y\": [0.0, 0.0, 0.0, 0.0, 0.0, 0.0, 0.0, 0.0, 0.0, 0.0], \"type\": \"scatter\", \"uid\": \"57ef0754-ef97-11e8-beae-7cb0c2481b6f\"}, {\"name\": \"frames: 10\", \"x\": [0, 1, 2, 3, 4, 5, 6, 7, 8, 9], \"y\": [0.0, 0.0, 0.0, 0.0, 0.0, 0.0, 0.0, 0.0, 0.0, 0.0], \"type\": \"scatter\", \"uid\": \"57ef0755-ef97-11e8-beae-7cb0c2481b6f\"}, {\"name\": \"frames: 20\", \"x\": [0, 1, 2, 3, 4, 5, 6, 7, 8, 9], \"y\": [2.1, 0.0, 2.3333333333333335, 0.0, 0.0, 2.3333333333333335, 8.4, 13.125, 17.5, 12.6], \"type\": \"scatter\", \"uid\": \"57ef0756-ef97-11e8-beae-7cb0c2481b6f\"}, {\"name\": \"frames: 30\", \"x\": [0, 1, 2, 3, 4, 5, 6, 7, 8, 9], \"y\": [4.2, 8.4, 9.333333333333334, 14.7, 21.0, 19.09090909090909, 18.9, 21.0, 21.0, 21.0], \"type\": \"scatter\", \"uid\": \"57ef0757-ef97-11e8-beae-7cb0c2481b6f\"}, {\"name\": \"frames: 40\", \"x\": [0, 1, 2, 3, 4, 5, 6, 7, 8, 9], \"y\": [2.1, 3.0, 9.0, 12.6, 21.0, 6.0, 11.666666666666666, 16.333333333333332, 10.5, 15.75], \"type\": \"scatter\", \"uid\": \"57ef0758-ef97-11e8-beae-7cb0c2481b6f\"}, {\"name\": \"frames: 50\", \"x\": [0, 1, 2, 3, 4, 5, 6, 7, 8, 9], \"y\": [0.0, 0.0, 0.0, 0.0, 0.0, 0.0, 0.0, 4.666666666666667, 9.0, 21.0], \"type\": \"scatter\", \"uid\": \"57ef0759-ef97-11e8-beae-7cb0c2481b6f\"}, {\"name\": \"frames: 60\", \"x\": [0, 1, 2, 3, 4, 5, 6, 7, 8, 9], \"y\": [2.1, 8.4, 14.0, 11.666666666666666, 21.0, 18.375, 15.75, 18.375, 15.75, 21.0], \"type\": \"scatter\", \"uid\": \"57ef075a-ef97-11e8-beae-7cb0c2481b6f\"}, {\"name\": \"frames: 70\", \"x\": [0, 1, 2, 3, 4, 5, 6, 7, 8, 9], \"y\": [10.5, 15.75, 18.666666666666668, 23.625, 21.0, 26.25, 48.0, 28.0, 32.666666666666664, 34.125], \"type\": \"scatter\", \"uid\": \"57ef075b-ef97-11e8-beae-7cb0c2481b6f\"}, {\"name\": \"frames: 80\", \"x\": [0, 1, 2, 3, 4, 5, 6, 7, 8, 9], \"y\": [10.5, 8.4, 28.875, 44.333333333333336, 46.2, 48.0, 58.333333333333336, 51.333333333333336, 42.0, 42.0], \"type\": \"scatter\", \"uid\": \"57ef075c-ef97-11e8-beae-7cb0c2481b6f\"}, {\"name\": \"frames: 90\", \"x\": [0, 1, 2, 3, 4, 5, 6, 7, 8, 9], \"y\": [8.4, 7.0, 18.9, 16.8, 28.875, 39.375, 47.25, 60.666666666666664, 49.875, 60.0], \"type\": \"scatter\", \"uid\": \"57ef075d-ef97-11e8-beae-7cb0c2481b6f\"}], {\"legend\": {\"x\": 0.2, \"y\": 0.6}, \"showlegend\": true, \"title\": \"Average\"}, {\"showLink\": true, \"linkText\": \"Export to plot.ly\"})});</script>"
      ]
     },
     "metadata": {},
     "output_type": "display_data"
    }
   ],
   "source": [
    "\n",
    "\"\"\"\n",
    "test 1\n",
    "- frames, from 10 to 1000, each time add 10 frames per play\n",
    "\"\"\"\n",
    "\n",
    "\n",
    "\n",
    "lock = mp.Lock() #create a globle locker\n",
    "\n",
    "generation = 10 # number of generations\n",
    "gametitle = 'Assault-v0'\n",
    "env = gym.make(gametitle)\n",
    "\n",
    "processes = 6 # how many to run concurrently (4 is best for my local desktop)\n",
    "frames = 10 #total frames each play\n",
    "tpopsize = 10 #teamPopSize\n",
    "rtpopSize = 0 #rTeamPopSize\n",
    "action=range(env.action_space.n) #action space\n",
    "rs = 0 #randseed\n",
    "curr_gap = 0.5 #gap\n",
    "tgap = 0.5 #tourneyGap\n",
    "pLearnerD = 0.7 #learner delete\n",
    "pLearnerA = 0.7 #learner add\n",
    "pMutation = 0.2 #player mutation rate\n",
    "pAIT = 0.5 #pActionIsTeam\n",
    "mts = 5 #maxTeamSize\n",
    "mps = 96 #maxProgramSize\n",
    "ppd = 0.5 #pProgramDelete\n",
    "ppa = 0.5 #pProgramAdd\n",
    "pps = 1.0 #pProgramSwap\n",
    "ppm = 1.0 #pProgramMutate\n",
    "ppit = None #popInit\n",
    "ar = (0.0, 1.0, 0.05) #actionRange\n",
    "\n",
    "min_plot = []\n",
    "max_plot = []\n",
    "average_plot = []\n",
    "# for loops in order to simulate data\n",
    "for i in range(0,10):\n",
    "    frames = i*10\n",
    "    print(\"Frames:\",frames)\n",
    "    \n",
    "    summary = gamebegin(generation,gametitle,processes,frames,action, rs, tpopsize, rtpopSize,\n",
    "                curr_gap, pLearnerD, pLearnerA, pMutation,\n",
    "                pAIT, mts, mps,\n",
    "                ppd, ppa, pps,\n",
    "                ppm, ppit, tgap,\n",
    "                ar)\n",
    "    #legend\n",
    "    min_plot.append(go.Scatter(x=[i for i in range(len(summary))],y=[i[0] for i in summary],name='frames: '+str(10*i)))\n",
    "    max_plot.append(go.Scatter(x=[i for i in range(len(summary))],y=[i[1] for i in summary],name='frames: '+str(10*i)))\n",
    "    average_plot.append(go.Scatter(x=[i for i in range(len(summary))],y=[i[2] for i in summary],name='frames: '+str(10*i)))\n",
    "\n",
    "min_fig = go.Figure(data=min_plot,layout=go.Layout(showlegend=True,legend={'x':0.2,'y':0.6},title='Minimum'))\n",
    "max_fig = go.Figure(data=max_plot,layout=go.Layout(showlegend=True,legend={'x':0.2,'y':0.6},title='Maximum'))\n",
    "average_fig = go.Figure(data=average_plot,layout=go.Layout(showlegend=True,legend={'x':0.2,'y':0.6},title='Average'))\n",
    "iplot(min_fig)\n",
    "iplot(max_fig)\n",
    "iplot(average_fig)"
   ]
  },
  {
   "cell_type": "code",
   "execution_count": null,
   "metadata": {},
   "outputs": [],
   "source": []
  }
 ],
 "metadata": {
  "kernelspec": {
   "display_name": "Python 3",
   "language": "python",
   "name": "python3"
  },
  "language_info": {
   "codemirror_mode": {
    "name": "ipython",
    "version": 3
   },
   "file_extension": ".py",
   "mimetype": "text/x-python",
   "name": "python",
   "nbconvert_exporter": "python",
   "pygments_lexer": "ipython3",
   "version": "3.6.7"
  }
 },
 "nbformat": 4,
 "nbformat_minor": 2
}
